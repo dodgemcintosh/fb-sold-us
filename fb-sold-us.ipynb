{
 "cells": [
  {
   "cell_type": "markdown",
   "metadata": {},
   "source": [
    "# Importing libraries:"
   ]
  },
  {
   "cell_type": "code",
   "execution_count": 1,
   "metadata": {},
   "outputs": [],
   "source": [
    "import numpy as np\n",
    "import pandas as pd\n",
    "import matplotlib.pyplot as plt\n",
    "import seaborn as sns\n",
    "import requests\n",
    "import codecs\n",
    "\n",
    "from __future__ import division, unicode_literals\n",
    "from bs4 import BeautifulSoup\n",
    "\n",
    "%matplotlib inline"
   ]
  },
  {
   "cell_type": "markdown",
   "metadata": {},
   "source": [
    "# Playing around with the \"Ads\" section:"
   ]
  },
  {
   "cell_type": "code",
   "execution_count": 2,
   "metadata": {
    "scrolled": true
   },
   "outputs": [
    {
     "name": "stdout",
     "output_type": "stream",
     "text": [
      "Enter your full name as it appears on your FB profile: Dodge McIntosh\n"
     ]
    }
   ],
   "source": [
    "name = input(\"Enter your full name as it appears on your FB profile: \")\n",
    "username = name.lower().replace(' ', '')"
   ]
  },
  {
   "cell_type": "code",
   "execution_count": 3,
   "metadata": {
    "collapsed": true
   },
   "outputs": [
    {
     "name": "stdout",
     "output_type": "stream",
     "text": [
      "<html><head><meta content=\"text/html; charset=utf-8\" http-equiv=\"Content-Type\"/><base href=\"../\"/><style type=\"text/css\">/* Copyright 2004-present Facebook. All Rights Reserved. */\n",
      "body {\n",
      "  color: black;\n",
      "  font-family: Arial, sans-serif;\n",
      "  font-size: 11pt;\n",
      "  margin: 15px auto;\n",
      "  width: 860px;\n",
      "}\n",
      "\n",
      ".nav {\n",
      "  float: left;\n",
      "  width: 200px;\n",
      "}\n",
      "\n",
      ".nav ul {\n",
      "  margin: 10px 0 0 0;\n",
      "  padding: 0;\n",
      "}\n",
      "\n",
      ".nav li {\n",
      "  display: block;\n",
      "  font-size: 15px;\n",
      "  list-style: none;\n",
      "  padding: 5px 10px;\n",
      "  width: 160px;\n",
      "}\n",
      "\n",
      ".nav .selected {\n",
      "  background: #EEE;\n",
      "  font-weight: bold;\n",
      "}\n",
      "\n",
      "h1 {\n",
      "  border-bottom: 1px solid #CCC;\n",
      "  padding-bottom: 10px;\n",
      "}\n",
      "\n",
      ".contents {\n",
      "  padding-left: 210px;\n",
      "}\n",
      "\n",
      "a, a:visited {\n",
      "  color: #10208C;\n",
      "  text-decoration: none;\n",
      "}\n",
      "\n",
      ".meta {\n",
      "  color: #888;\n",
      "  font-size: 13px;\n",
      "}\n",
      "\n",
      ".block {\n",
      "  margin: 20px 0;\n",
      "}\n",
      "\n",
      ".warning {\n",
      "  background: #FEE;\n",
      "  border: 1px solid #A00;\n",
      "}\n",
      "\n",
      ".user {\n",
      "  color: #10208C;\n",
      "  margin-right: 4px;\n",
      "}\n",
      "\n",
      ".comment {\n",
      "  background: #EEE;\n",
      "  margin: 5px 0;\n",
      "  padding: 10px;\n",
      "}\n",
      "\n",
      ".thread {\n",
      "  border: 1px solid #CCC;\n",
      "  margin: 0 0 20px 0;\n",
      "  padding: 10px;\n",
      "}\n",
      "\n",
      ".message_header {\n",
      "  border-top: 1px solid #CCC;\n",
      "  margin: 10px 0 0 0;\n",
      "  padding: 10px 0 0 0;\n",
      "}\n",
      "\n",
      ".message_header .meta {\n",
      "  float: right;\n",
      "}\n",
      "\n",
      "ul {\n",
      "  list-style: none;\n",
      "  padding: 0;\n",
      "}\n",
      "\n",
      "th {\n",
      "  font-weight: normal;\n",
      "  padding: 5px 5px;\n",
      "  text-align: left;\n",
      "  vertical-align: top;\n",
      "  width: 150px;\n",
      "}\n",
      "\n",
      "td {\n",
      "  padding: 5px 5px;\n",
      "}\n",
      "\n",
      ".footer {\n",
      "  clear: both;\n",
      "  color: #888;\n",
      "  font-size: 13px;\n",
      "  margin-top: 10px;\n",
      "  text-align: center;\n",
      "}\n",
      "\n",
      ".warning {\n",
      "  color: red;\n",
      "}\n",
      "</style><title>Dodge McIntosh - Ads</title></head><body><div class=\"nav\"><img src=\"photos/profile.jpg\"/><ul><li><a href=\"index.htm\">Profile</a></li><li><a href=\"html/contact_info.htm\">Contact Info</a></li><li><a href=\"html/timeline.htm\">Timeline</a></li><li><a href=\"html/photos.htm\">Photos</a></li><li><a href=\"html/videos.htm\">Videos</a></li><li><a href=\"html/friends.htm\">Friends</a></li><li><a href=\"html/messages.htm\">Messages</a></li><li><a href=\"html/pokes.htm\">Pokes</a></li><li><a href=\"html/events.htm\">Events</a></li><li><a href=\"html/security.htm\">Security</a></li><li class=\"selected\">Ads</li><li><a href=\"html/apps.htm\">Applications</a></li></ul></div><div class=\"contents\"><h1>Dodge McIntosh</h1><h2>Ads Topics</h2><ul><li>Cookie</li><li>UCLA Bruins</li><li>Autism Awareness</li><li>Glacier</li><li>Travel</li><li>Performing arts</li><li>Cats</li><li>2010 United States Census</li><li>WOW air</li><li>San Francisco Bay Area</li><li>Academy</li><li>Lake Tahoe</li><li>Brewery</li><li>All Good Music Festival</li><li>Motivation</li><li>Laboratory</li><li>Music</li><li>Property</li><li>University of California, Los Angeles</li><li>Paul McCartney</li><li>David</li><li>UCLA Bruins men's basketball</li><li>Vevo</li></ul><h2>Ads History</h2><ul><li>How Marvel Characters Will Die In Avengers: Infinity War (According To The Comics) (Clicked Ad) <div class=\"meta\">Monday, March 19, 2018 at 5:54pm PDT</div></li><li>How To Master The Only Skill That Truly Matters (Clicked Ad) <div class=\"meta\">Monday, March 19, 2018 at 6:00pm PDT</div></li><li>Voodoo (Clicked Ad) <div class=\"meta\">Sunday, March 25, 2018 at 8:37am PDT</div></li><li>Amateur Trailer (Clicked Ad) <div class=\"meta\">Saturday, March 31, 2018 at 5:34pm PDT</div></li><li>Which Programming Language to Choose? (Clicked Ad) <div class=\"meta\">Saturday, March 31, 2018 at 5:38pm PDT</div></li></ul><h2>Advertisers with your contact info</h2><ul><li>Fashionshe</li><li>Airbnb</li><li>LinkShe</li><li>Spotify</li><li>LILIGAL</li><li>ROTITA</li><li>Fiverr</li><li>MileIQ</li><li>Airbnb （エアビーアンドビー）</li><li>Ticketmaster</li><li>Rotita</li><li>AutoZone</li><li>Rosewe</li><li>Viking River Cruises</li><li>DataCamp</li><li>Uber Eats</li><li>Viking Ocean Cruises</li></ul></div><div class=\"footer\">Downloaded by Dodge McIntosh on Monday, April 2, 2018 at 12:42pm PDT</div></body></html>\n"
     ]
    }
   ],
   "source": [
    "ads_file = codecs.open(\"facebook-{}/html/ads.htm\".format(username), 'r', 'utf-8')\n",
    "ads_doc = BeautifulSoup(ads_file.read(), \"lxml\")\n",
    "print(ads_doc)"
   ]
  },
  {
   "cell_type": "code",
   "execution_count": 4,
   "metadata": {},
   "outputs": [
    {
     "name": "stdout",
     "output_type": "stream",
     "text": [
      "Facebook thinks you are interested in these 23 topics: \n",
      "\n",
      "['Cookie', 'UCLA Bruins', 'Autism Awareness', 'Glacier', 'Travel', 'Performing arts', 'Cats', '2010 United States Census', 'WOW air', 'San Francisco Bay Area', 'Academy', 'Lake Tahoe', 'Brewery', 'All Good Music Festival', 'Motivation', 'Laboratory', 'Music', 'Property', 'University of California, Los Angeles', 'Paul McCartney', 'David', \"UCLA Bruins men's basketball\", 'Vevo']\n"
     ]
    }
   ],
   "source": [
    "ads_topics = []\n",
    "for topic in ads_doc.find_all('ul')[1]:\n",
    "    ads_topics.append(topic.text)\n",
    "\n",
    "print(\"Facebook thinks you are interested in these {} topics: \\n\\n{}\".format(len(ads_topics), ads_topics))"
   ]
  },
  {
   "cell_type": "code",
   "execution_count": 5,
   "metadata": {},
   "outputs": [
    {
     "name": "stdout",
     "output_type": "stream",
     "text": [
      "According to Facebook, these 17 companies have your contact info: \n",
      "\n",
      "['Fashionshe', 'Airbnb', 'LinkShe', 'Spotify', 'LILIGAL', 'ROTITA', 'Fiverr', 'MileIQ', 'Airbnb （エアビーアンドビー）', 'Ticketmaster', 'Rotita', 'AutoZone', 'Rosewe', 'Viking River Cruises', 'DataCamp', 'Uber Eats', 'Viking Ocean Cruises']\n"
     ]
    }
   ],
   "source": [
    "advertisers = []\n",
    "for company in ads_doc.find_all('ul')[3]:\n",
    "    advertisers.append(company.text)\n",
    "    \n",
    "print(\"According to Facebook, these {} companies have your contact info: \\n\\n{}\".format(len(advertisers), advertisers))"
   ]
  },
  {
   "cell_type": "code",
   "execution_count": 6,
   "metadata": {},
   "outputs": [],
   "source": [
    "# Starting to create a dict for advertisers and privacy policy links"
   ]
  },
  {
   "cell_type": "code",
   "execution_count": 7,
   "metadata": {},
   "outputs": [],
   "source": [
    "privacy_policy_links = [\n",
    "    'https://www.airbnb.com/terms/privacy_policy',\n",
    "    'https://www.spotify.com/us/legal/privacy-policy/',\n",
    "]"
   ]
  },
  {
   "cell_type": "markdown",
   "metadata": {},
   "source": [
    "# Applications"
   ]
  },
  {
   "cell_type": "code",
   "execution_count": 75,
   "metadata": {
    "scrolled": true
   },
   "outputs": [
    {
     "name": "stdout",
     "output_type": "stream",
     "text": [
      "<html><head><meta content=\"text/html; charset=utf-8\" http-equiv=\"Content-Type\"/><base href=\"../\"/><style type=\"text/css\">/* Copyright 2004-present Facebook. All Rights Reserved. */\n",
      "body {\n",
      "  color: black;\n",
      "  font-family: Arial, sans-serif;\n",
      "  font-size: 11pt;\n",
      "  margin: 15px auto;\n",
      "  width: 860px;\n",
      "}\n",
      "\n",
      ".nav {\n",
      "  float: left;\n",
      "  width: 200px;\n",
      "}\n",
      "\n",
      ".nav ul {\n",
      "  margin: 10px 0 0 0;\n",
      "  padding: 0;\n",
      "}\n",
      "\n",
      ".nav li {\n",
      "  display: block;\n",
      "  font-size: 15px;\n",
      "  list-style: none;\n",
      "  padding: 5px 10px;\n",
      "  width: 160px;\n",
      "}\n",
      "\n",
      ".nav .selected {\n",
      "  background: #EEE;\n",
      "  font-weight: bold;\n",
      "}\n",
      "\n",
      "h1 {\n",
      "  border-bottom: 1px solid #CCC;\n",
      "  padding-bottom: 10px;\n",
      "}\n",
      "\n",
      ".contents {\n",
      "  padding-left: 210px;\n",
      "}\n",
      "\n",
      "a, a:visited {\n",
      "  color: #10208C;\n",
      "  text-decoration: none;\n",
      "}\n",
      "\n",
      ".meta {\n",
      "  color: #888;\n",
      "  font-size: 13px;\n",
      "}\n",
      "\n",
      ".block {\n",
      "  margin: 20px 0;\n",
      "}\n",
      "\n",
      ".warning {\n",
      "  background: #FEE;\n",
      "  border: 1px solid #A00;\n",
      "}\n",
      "\n",
      ".user {\n",
      "  color: #10208C;\n",
      "  margin-right: 4px;\n",
      "}\n",
      "\n",
      ".comment {\n",
      "  background: #EEE;\n",
      "  margin: 5px 0;\n",
      "  padding: 10px;\n",
      "}\n",
      "\n",
      ".thread {\n",
      "  border: 1px solid #CCC;\n",
      "  margin: 0 0 20px 0;\n",
      "  padding: 10px;\n",
      "}\n",
      "\n",
      ".message_header {\n",
      "  border-top: 1px solid #CCC;\n",
      "  margin: 10px 0 0 0;\n",
      "  padding: 10px 0 0 0;\n",
      "}\n",
      "\n",
      ".message_header .meta {\n",
      "  float: right;\n",
      "}\n",
      "\n",
      "ul {\n",
      "  list-style: none;\n",
      "  padding: 0;\n",
      "}\n",
      "\n",
      "th {\n",
      "  font-weight: normal;\n",
      "  padding: 5px 5px;\n",
      "  text-align: left;\n",
      "  vertical-align: top;\n",
      "  width: 150px;\n",
      "}\n",
      "\n",
      "td {\n",
      "  padding: 5px 5px;\n",
      "}\n",
      "\n",
      ".footer {\n",
      "  clear: both;\n",
      "  color: #888;\n",
      "  font-size: 13px;\n",
      "  margin-top: 10px;\n",
      "  text-align: center;\n",
      "}\n",
      "\n",
      ".warning {\n",
      "  color: red;\n",
      "}\n",
      "</style><title>Dodge McIntosh - Applications</title></head><body><div class=\"nav\"><img src=\"photos/profile.jpg\"/><ul><li><a href=\"index.htm\">Profile</a></li><li><a href=\"html/contact_info.htm\">Contact Info</a></li><li><a href=\"html/timeline.htm\">Timeline</a></li><li><a href=\"html/photos.htm\">Photos</a></li><li><a href=\"html/videos.htm\">Videos</a></li><li><a href=\"html/friends.htm\">Friends</a></li><li><a href=\"html/messages.htm\">Messages</a></li><li><a href=\"html/pokes.htm\">Pokes</a></li><li><a href=\"html/events.htm\">Events</a></li><li><a href=\"html/security.htm\">Security</a></li><li><a href=\"html/ads.htm\">Ads</a></li><li class=\"selected\">Applications</li></ul></div><div class=\"contents\"><h1>Dodge McIntosh</h1><div><h2>Installed Applications</h2><ul><li>User Interviews</li><li>Blobla</li><li>Hitch</li><li>Lovely</li><li>letgo</li><li>Trials Frontier</li><li>Gymsurfing</li><li>UCLA Alumni</li><li>Laugh Factory Comedy Network</li><li>Blades of Brim</li><li>Ibotta</li><li>Tinder</li><li>FedEx Small Business Grant</li><li>Postmates</li><li>BoardRush &amp; Friends</li><li>Trivia Crack</li><li>Lyft</li><li>Yo</li><li>Mini Golf MatchUp</li><li>Headspace</li><li>360 Panorama</li><li>Thrillcall</li><li>Yahoo!</li><li>Viber</li><li>PhotoCircle for iOS &amp; Android</li><li>DOWN Dating: Meet Fun Locals</li><li>Ruzzle</li><li>PwC</li><li>Instagram</li><li>Bandsintown</li><li>Poker Heat</li><li>Injustice: Gods Among Us</li><li>Waze</li><li>iWould</li><li>StumbleUpon</li><li>Spotify</li><li>What kind of tattoo should you get? </li><li>What does your day of birth say about you?</li><li>Photobucket</li><li>Someecards</li><li>what college best suits your personality?</li><li>Developer</li><li>Marketplace</li><li>Causes</li></ul></div></div><div class=\"footer\">Downloaded by Dodge McIntosh on Monday, April 2, 2018 at 12:42pm PDT</div></body></html>\n"
     ]
    }
   ],
   "source": [
    "apps_file = codecs.open(\"facebook-{}/html/apps.htm\".format(username), 'r', 'utf-8')\n",
    "apps_doc = BeautifulSoup(apps_file.read(), \"lxml\")\n",
    "print(apps_doc)"
   ]
  },
  {
   "cell_type": "code",
   "execution_count": 81,
   "metadata": {},
   "outputs": [
    {
     "data": {
      "text/plain": [
       "44"
      ]
     },
     "execution_count": 81,
     "metadata": {},
     "output_type": "execute_result"
    }
   ],
   "source": [
    "len(apps_doc.find_all('ul')[1])"
   ]
  },
  {
   "cell_type": "code",
   "execution_count": 82,
   "metadata": {},
   "outputs": [
    {
     "name": "stdout",
     "output_type": "stream",
     "text": [
      "You have 44 installed applications associated with your Facebook.\n"
     ]
    }
   ],
   "source": [
    "print(\"You have {} installed applications associated with your Facebook.\".format(len(apps_doc.find_all('ul')[1])))"
   ]
  },
  {
   "cell_type": "markdown",
   "metadata": {},
   "source": [
    "# The photos file:"
   ]
  },
  {
   "cell_type": "code",
   "execution_count": 8,
   "metadata": {
    "collapsed": true
   },
   "outputs": [
    {
     "name": "stdout",
     "output_type": "stream",
     "text": [
      "<html><head><meta content=\"text/html; charset=utf-8\" http-equiv=\"Content-Type\"/><base href=\"../\"/><style type=\"text/css\">/* Copyright 2004-present Facebook. All Rights Reserved. */\n",
      "body {\n",
      "  color: black;\n",
      "  font-family: Arial, sans-serif;\n",
      "  font-size: 11pt;\n",
      "  margin: 15px auto;\n",
      "  width: 860px;\n",
      "}\n",
      "\n",
      ".nav {\n",
      "  float: left;\n",
      "  width: 200px;\n",
      "}\n",
      "\n",
      ".nav ul {\n",
      "  margin: 10px 0 0 0;\n",
      "  padding: 0;\n",
      "}\n",
      "\n",
      ".nav li {\n",
      "  display: block;\n",
      "  font-size: 15px;\n",
      "  list-style: none;\n",
      "  padding: 5px 10px;\n",
      "  width: 160px;\n",
      "}\n",
      "\n",
      ".nav .selected {\n",
      "  background: #EEE;\n",
      "  font-weight: bold;\n",
      "}\n",
      "\n",
      "h1 {\n",
      "  border-bottom: 1px solid #CCC;\n",
      "  padding-bottom: 10px;\n",
      "}\n",
      "\n",
      ".contents {\n",
      "  padding-left: 210px;\n",
      "}\n",
      "\n",
      "a, a:visited {\n",
      "  color: #10208C;\n",
      "  text-decoration: none;\n",
      "}\n",
      "\n",
      ".meta {\n",
      "  color: #888;\n",
      "  font-size: 13px;\n",
      "}\n",
      "\n",
      ".block {\n",
      "  margin: 20px 0;\n",
      "}\n",
      "\n",
      ".warning {\n",
      "  background: #FEE;\n",
      "  border: 1px solid #A00;\n",
      "}\n",
      "\n",
      ".user {\n",
      "  color: #10208C;\n",
      "  margin-right: 4px;\n",
      "}\n",
      "\n",
      ".comment {\n",
      "  background: #EEE;\n",
      "  margin: 5px 0;\n",
      "  padding: 10px;\n",
      "}\n",
      "\n",
      ".thread {\n",
      "  border: 1px solid #CCC;\n",
      "  margin: 0 0 20px 0;\n",
      "  padding: 10px;\n",
      "}\n",
      "\n",
      ".message_header {\n",
      "  border-top: 1px solid #CCC;\n",
      "  margin: 10px 0 0 0;\n",
      "  padding: 10px 0 0 0;\n",
      "}\n",
      "\n",
      ".message_header .meta {\n",
      "  float: right;\n",
      "}\n",
      "\n",
      "ul {\n",
      "  list-style: none;\n",
      "  padding: 0;\n",
      "}\n",
      "\n",
      "th {\n",
      "  font-weight: normal;\n",
      "  padding: 5px 5px;\n",
      "  text-align: left;\n",
      "  vertical-align: top;\n",
      "  width: 150px;\n",
      "}\n",
      "\n",
      "td {\n",
      "  padding: 5px 5px;\n",
      "}\n",
      "\n",
      ".footer {\n",
      "  clear: both;\n",
      "  color: #888;\n",
      "  font-size: 13px;\n",
      "  margin-top: 10px;\n",
      "  text-align: center;\n",
      "}\n",
      "\n",
      ".warning {\n",
      "  color: red;\n",
      "}\n",
      "</style><title>Dodge McIntosh - Photos</title></head><body><div class=\"nav\"><img src=\"photos/profile.jpg\"/><ul><li><a href=\"index.htm\">Profile</a></li><li><a href=\"html/contact_info.htm\">Contact Info</a></li><li><a href=\"html/timeline.htm\">Timeline</a></li><li class=\"selected\">Photos</li><li><a href=\"html/videos.htm\">Videos</a></li><li><a href=\"html/friends.htm\">Friends</a></li><li><a href=\"html/messages.htm\">Messages</a></li><li><a href=\"html/pokes.htm\">Pokes</a></li><li><a href=\"html/events.htm\">Events</a></li><li><a href=\"html/security.htm\">Security</a></li><li><a href=\"html/ads.htm\">Ads</a></li><li><a href=\"html/apps.htm\">Applications</a></li></ul></div><div class=\"contents\"><h1>Dodge McIntosh</h1><h2>Facial Recognition Data</h2><table><tr><th>Threshold 1</th><td>3.5240168571472</td></tr><tr><th>Threshold 2</th><td>3.2889986038208</td></tr><tr><th>Threshold 3</th><td>1.6900800466537</td></tr><tr><th>Example Count</th><td>178</td></tr><tr><th>Raw Data</th><td>Fp7jkPgEGIAE47ZlOH0xvbCGtxypFDc7to-5VrwRLmKcRjXJLp-zUDJNt1mtLDN7sPst4CwOs7Iuta0vM84ehTlNND83Zq9Hu2EqsDgQNV84IDfuNFC5VTIxtQS4bzI1uTCvpbQNs9gvhiqOOHO1YLJnOAA1p7BsuFGobbXbt6yQ3q8KMFkwHy5CMMQkDzamuxYuW7EGtLU04SsoN0u8mLYFukw4OauALvm0aRjAsYY4ZLSiMPYwsim0usS1qTpOtGSxnjjZODQzLTbAsjQ3QzGiLLG2H7OEMzI7-zlKNRO4BTHSKa2xFh5hLg8197TnLRO19rWDNWis7rjHMzU6DTY9NASqzjXTtVYz6TRbuVw6YzZdvGEvTLjiuJAxjTjHMfQ4Ga-xMIUy6TTlLPo9CrBDuNg0ays1qG-4SiyFqZC4iTO_mzo5zZ-5ML4srK9FOg27brixsXS8zzX2rsQr07g3Otusd7ffsk03vDu7tvY4oy8FM4g5WrIfsYy51DpNtee6Mbe2uegvvznNunWuCrhVMgm8q6ZItbM0xCpXsW066jk_LDEewTkPt_IwjLrXM_65xy2Ru4otL7OZORwzoqw2uvw0KDk7N2e0dzgtKs8x6K01tZYwV7ZaMJ61VjkyOEeyWzjxpE6277gyuR62pDLwNAOzCTnFNbEwbyxMLO83EzVfuH8xT7YdwDunMBdADDEvwAAAABdACk_egAAAABc_-wqRYAAAABXkAhWnER3APORgHT8WsZ8Z_RRAmny4QIvpQ0CB9VNAeybWQHOWX0BtgM5Aah0BQGbuFEBlX6NAYYl-QF2oAkBaegpAV0-3QFReU0BSfvRAQyaKQDpDwkAzpxtALmuhQBy6vzUACMgBB2RmMy1mMTYA</td></tr></table></div><div class=\"footer\">Downloaded by Dodge McIntosh on Monday, April 2, 2018 at 12:42pm PDT</div></body></html>\n"
     ]
    }
   ],
   "source": [
    "face_rec_file = codecs.open(\"facebook-{}/photos/facedata.htm\".format(username), 'r', 'utf-8')\n",
    "face_rec_doc = BeautifulSoup(face_rec_file.read(), \"lxml\")\n",
    "print(face_rec_doc)"
   ]
  },
  {
   "cell_type": "code",
   "execution_count": 83,
   "metadata": {},
   "outputs": [
    {
     "name": "stdout",
     "output_type": "stream",
     "text": [
      "• Facebook has allegedly used 178 photos to compile its facial recognition algorithm for you... Yikes!\n"
     ]
    }
   ],
   "source": [
    "ex_count = int(face_rec_doc.find_all('td')[3].text)\n",
    "\n",
    "print('• Facebook has allegedly used {} photos to compile its facial recognition algorithm for you... Yikes!'.format(ex_count))"
   ]
  },
  {
   "cell_type": "markdown",
   "metadata": {},
   "source": [
    "# Friends"
   ]
  },
  {
   "cell_type": "code",
   "execution_count": 10,
   "metadata": {
    "collapsed": true
   },
   "outputs": [
    {
     "name": "stdout",
     "output_type": "stream",
     "text": [
      "<html><head><meta content=\"text/html; charset=utf-8\" http-equiv=\"Content-Type\"/><base href=\"../\"/><style type=\"text/css\">/* Copyright 2004-present Facebook. All Rights Reserved. */\n",
      "body {\n",
      "  color: black;\n",
      "  font-family: Arial, sans-serif;\n",
      "  font-size: 11pt;\n",
      "  margin: 15px auto;\n",
      "  width: 860px;\n",
      "}\n",
      "\n",
      ".nav {\n",
      "  float: left;\n",
      "  width: 200px;\n",
      "}\n",
      "\n",
      ".nav ul {\n",
      "  margin: 10px 0 0 0;\n",
      "  padding: 0;\n",
      "}\n",
      "\n",
      ".nav li {\n",
      "  display: block;\n",
      "  font-size: 15px;\n",
      "  list-style: none;\n",
      "  padding: 5px 10px;\n",
      "  width: 160px;\n",
      "}\n",
      "\n",
      ".nav .selected {\n",
      "  background: #EEE;\n",
      "  font-weight: bold;\n",
      "}\n",
      "\n",
      "h1 {\n",
      "  border-bottom: 1px solid #CCC;\n",
      "  padding-bottom: 10px;\n",
      "}\n",
      "\n",
      ".contents {\n",
      "  padding-left: 210px;\n",
      "}\n",
      "\n",
      "a, a:visited {\n",
      "  color: #10208C;\n",
      "  text-decoration: none;\n",
      "}\n",
      "\n",
      ".meta {\n",
      "  color: #888;\n",
      "  font-size: 13px;\n",
      "}\n",
      "\n",
      ".block {\n",
      "  margin: 20px 0;\n",
      "}\n",
      "\n",
      ".warning {\n",
      "  background: #FEE;\n",
      "  border: 1px solid #A00;\n",
      "}\n",
      "\n",
      ".user {\n",
      "  color: #10208C;\n",
      "  margin-right: 4px;\n",
      "}\n",
      "\n",
      ".comment {\n",
      "  background: #EEE;\n",
      "  margin: 5px 0;\n",
      "  padding: 10px;\n",
      "}\n",
      "\n",
      ".thread {\n",
      "  border: 1px solid #CCC;\n",
      "  margin: 0 0 20px 0;\n",
      "  padding: 10px;\n",
      "}\n",
      "\n",
      ".message_header {\n",
      "  border-top: 1px solid #CCC;\n",
      "  margin: 10px 0 0 0;\n",
      "  padding: 10px 0 0 0;\n",
      "}\n",
      "\n",
      ".message_header .meta {\n",
      "  float: right;\n",
      "}\n",
      "\n",
      "ul {\n",
      "  list-style: none;\n",
      "  padding: 0;\n",
      "}\n",
      "\n",
      "th {\n",
      "  font-weight: normal;\n",
      "  padding: 5px 5px;\n",
      "  text-align: left;\n",
      "  vertical-align: top;\n",
      "  width: 150px;\n",
      "}\n",
      "\n",
      "td {\n",
      "  padding: 5px 5px;\n",
      "}\n",
      "\n",
      ".footer {\n",
      "  clear: both;\n",
      "  color: #888;\n",
      "  font-size: 13px;\n",
      "  margin-top: 10px;\n",
      "  text-align: center;\n",
      "}\n",
      "\n",
      ".warning {\n",
      "  color: red;\n",
      "}\n",
      "</style><title>Dodge McIntosh - Friends</title></head><body><div class=\"nav\"><img src=\"photos/profile.jpg\"/><ul><li><a href=\"index.htm\">Profile</a></li><li><a href=\"html/contact_info.htm\">Contact Info</a></li><li><a href=\"html/timeline.htm\">Timeline</a></li><li><a href=\"html/photos.htm\">Photos</a></li><li><a href=\"html/videos.htm\">Videos</a></li><li class=\"selected\">Friends</li><li><a href=\"html/messages.htm\">Messages</a></li><li><a href=\"html/pokes.htm\">Pokes</a></li><li><a href=\"html/events.htm\">Events</a></li><li><a href=\"html/security.htm\">Security</a></li><li><a href=\"html/ads.htm\">Ads</a></li><li><a href=\"html/apps.htm\">Applications</a></li></ul></div><div class=\"contents\"><h1>Dodge McIntosh</h1><h2>Friends</h2><ul><li>Bailey Peyton Walton (Jan 21)</li><li>Kristyn Lewis (Jan 16)</li><li>James McAfee (Oct 28, 2017)</li><li>Austin Walker (Aug 14, 2017)</li><li>Ted Kim (Jul 16, 2017)</li><li>Christian Oasay (Jul 8, 2017)</li><li>Neal Ketchum (Jun 30, 2017)</li><li>Jennifer Kim (Jun 27, 2017)</li><li>David Oppetit (Jun 9, 2017)</li><li>Iz Zavalza (Jun 8, 2017)</li><li>Henney Oh (Jun 6, 2017)</li><li>Zach Buckley (Jun 6, 2017)</li><li>Omar Juarez (Jun 1, 2017)</li><li>Kevin Coffman (May 29, 2017)</li><li>Jonathan Gallegos (May 26, 2017)</li><li>Ügo Mbawuike (May 22, 2017)</li><li>Greg Kalfayan (May 22, 2017)</li><li>Eloise Robbins (May 19, 2017)</li><li>Henney Oh (May 3, 2017)</li><li>Sport Billy (Apr 21, 2017)</li><li>Dan Federoff (Apr 13, 2017)</li><li>Sydney Barnes (Mar 9, 2017)</li><li>Heidi Montague (Mar 8, 2017)</li><li>Adam Stone (Mar 7, 2017)</li><li>Shirley Cox Harrod (Mar 4, 2017)</li><li>Brendan K. Jackson (Feb 15, 2017)</li><li>Tavara Johnson (Feb 9, 2017)</li><li>Tessa Frey (Feb 9, 2017)</li><li>Vinicio Espinosa (Jan 24, 2017)</li><li>Richard N Danielle (Jan 18, 2017)</li><li>Tanya Skuba (Dec 20, 2016)</li><li>Elliott Wersing (Dec 15, 2016)</li><li>Lindsey Elise (Dec 8, 2016)</li><li>Clara Funk (Dec 6, 2016)</li><li>He Zzy (Dec 5, 2016)</li><li>Kevin Elens (Nov 24, 2016)</li><li>Chandler Lieto (Nov 11, 2016)</li><li>Joel Tinoco (Oct 27, 2016)</li><li>Mandy Torres (Oct 26, 2016)</li><li>Linda Thomsen (Oct 24, 2016)</li><li>Leah Cioe (Oct 24, 2016)</li><li>Lynne Starr (Oct 14, 2016)</li><li>Kailey Grimsley (Oct 13, 2016)</li><li>Tobias Elvermann (Oct 11, 2016)</li><li>Colleen Masters (Oct 10, 2016)</li><li>Marvin Cassler (Oct 9, 2016)</li><li>Kellz Janine (Oct 7, 2016)</li><li>Michael Hemmerle (Sep 28, 2016)</li><li>Bonnie Marion (Sep 28, 2016)</li><li>Robert Peck (Sep 27, 2016)</li><li>Matt Hollie (Sep 26, 2016)</li><li>Sanup Pandey (Sep 26, 2016)</li><li>Jeffrey Zhong (Sep 1, 2016)</li><li>Joseph Cobian (Sep 1, 2016)</li><li>Karen K. Wang (Aug 27, 2016)</li><li>Lindsey Evans (Aug 17, 2016)</li><li>Sarah Summers (Jul 28, 2016)</li><li>Mike Hylton (Jul 12, 2016)</li><li>Mary Dema-rasta (Jul 12, 2016)</li><li>Kathryn Swift Bartlett (Jul 1, 2016)</li><li>JKay Newt (Jul 1, 2016)</li><li>Keegan Johnson (Jul 1, 2016)</li><li>Chelley Pfeiffer (Jun 10, 2016)</li><li>Sandra Cepin (Jun 4, 2016)</li><li>Veronica Stykel Mahaffey (May 25, 2016)</li><li>Nick Jones (May 22, 2016)</li><li>Michael Robert Yanoska (May 13, 2016)</li><li>Michele Kempinsky (May 12, 2016)</li><li>Kathy Savage (May 4, 2016)</li><li>Danielle NB (Apr 19, 2016)</li><li>Omeed Alipour (Apr 7, 2016)</li><li>Kevin Su (Mar 24, 2016)</li><li>Michael Lau (Mar 18, 2016)</li><li>Yan Zhang (Mar 13, 2016)</li><li>Laura Carpenter (Mar 10, 2016)</li><li>Logan Pierce (Mar 9, 2016)</li><li>Shawna Israel (Mar 2, 2016)</li><li>Esther Bunnie (Feb 19, 2016)</li><li>Emily Kennan (Feb 16, 2016)</li><li>Stephanie Davison (Feb 2, 2016)</li><li>Jordan Newell (Jan 30, 2016)</li><li>Eric Friedman (Jan 29, 2016)</li><li>Alan Golombek (Oct 23, 2015)</li><li>Robert Frackelton (Oct 5, 2015)</li><li>Lauren A Davis (Oct 1, 2015)</li><li>Gus Rick (Oct 1, 2015)</li><li>David Ximenez (Sep 27, 2015)</li><li>Nicholas Vincent (Sep 17, 2015)</li><li>Mark Ajalat (Sep 3, 2015)</li><li>Andrew Padula (Aug 27, 2015)</li><li>Hannah Mckinney (Aug 25, 2015)</li><li>Sarah Bear Alexandra (Aug 24, 2015)</li><li>Grant Colin (Aug 24, 2015)</li><li>Brett Camacho (Aug 24, 2015)</li><li>Sabrina Zeigler (Aug 23, 2015)</li><li>Katie Harmeyer (Aug 22, 2015)</li><li>Savannah Krause (Aug 22, 2015)</li><li>Dwight Scales (Aug 22, 2015)</li><li>Alex Hammer (Aug 22, 2015)</li><li>Michael Kruger (Aug 22, 2015)</li><li>Avalon Montgomery (Aug 21, 2015)</li><li>Jake Dvorsky (Aug 19, 2015)</li><li>Henson Kwok (Aug 17, 2015)</li><li>Cory Southwell Baker (Aug 16, 2015)</li><li>Amin Tavakoli (Aug 4, 2015)</li><li>Riley Hawkins (Jul 20, 2015)</li><li>Brett Erickson (Jul 12, 2015)</li><li>Chris Ball (Jul 10, 2015)</li><li>Obinna Uwakah (Jul 5, 2015)</li><li>Susie Q Beshear (Jun 8, 2015)</li><li>Patsy A. McIntosh (Jun 8, 2015)</li><li>Casey Maloney (May 8, 2015)</li><li>Rowan Gabriel (May 7, 2015)</li><li>Eddie Migdal (May 7, 2015)</li><li>Ben Adams (Apr 29, 2015)</li><li>Jaimeson Cortez (Apr 20, 2015)</li><li>Christian Pena (Apr 20, 2015)</li><li>Elior Ilishah (Apr 17, 2015)</li><li>Courtney Lovesyourface (Apr 17, 2015)</li><li>Kale B. Greg (Apr 15, 2015)</li><li>Zack Sleep (Apr 10, 2015)</li><li>Pierce Cooley (Apr 9, 2015)</li><li>David Miracchi (Feb 25, 2015)</li><li>Sophia Davis (Feb 24, 2015)</li><li>Felicia Hano (Feb 6, 2015)</li><li>James Whorrall (Jan 27, 2015)</li><li>John-Michael Migdal (Jan 14, 2015)</li><li>Kimberly Boxer Friedman (Jan 6, 2015)</li><li>El Yony (Jan 4, 2015)</li><li>Aaron Elman (Dec 28, 2014)</li><li>Megan Friedlander (Dec 26, 2014)</li><li>Max Scott (Dec 26, 2014)</li><li>Heather Morris (Dec 26, 2014)</li><li>Sam Moran (Dec 13, 2014)</li><li>Alexa Gilmore (Dec 13, 2014)</li><li>Lola Lambchop (Dec 7, 2014)</li><li>Chelsea Williams (Dec 6, 2014)</li><li>Joel Ontiveros (Nov 29, 2014)</li><li>Becca Rose (Nov 11, 2014)</li><li>Kelsey Ketchem (Nov 11, 2014)</li><li>Rachel Delano (Nov 11, 2014)</li><li>Tiffany Lindsay (Nov 10, 2014)</li><li>Wendy Atkins (Oct 27, 2014)</li><li>Kelly Ann OD (Oct 27, 2014)</li><li>Kelly Haynes (Oct 21, 2014)</li><li>Rachel Wittlin (Oct 1, 2014)</li><li>Kristina Beahm (Sep 25, 2014)</li><li>Jimmy Temple (Sep 22, 2014)</li><li>Jenn FromDablock (Sep 19, 2014)</li><li>Macey Mirante (Sep 16, 2014)</li><li>Lorraine Boubion (Sep 12, 2014)</li><li>Andreya Simoneau (Sep 11, 2014)</li><li>Nikki Horton (Sep 11, 2014)</li><li>Katt Dreyfuss (Sep 4, 2014)</li><li>Perry Seaman (Sep 3, 2014)</li><li>Calley Prezzano (Aug 29, 2014)</li><li>Jesi Ferguson (Aug 27, 2014)</li><li>Evan Taylor (Aug 24, 2014)</li><li>Dawn Whelan Crawford (Aug 12, 2014)</li><li>Tori Parker (Aug 12, 2014)</li><li>Evan Schlossberg (Aug 12, 2014)</li><li>Chad Collins (Aug 8, 2014)</li><li>Michael Liskey (Aug 5, 2014)</li><li>Kimberly Motz (Aug 5, 2014)</li><li>Luc Bergevin (Jul 28, 2014)</li><li>Alejandro Escobedo (Jul 25, 2014)</li><li>Hailey James (Jul 25, 2014)</li><li>Mitch Camacho (Jul 24, 2014)</li><li>Gabby Büko (Jul 24, 2014)</li><li>Christina Marie (Jul 24, 2014)</li><li>Annikah Good (Jul 23, 2014)</li><li>David Gallop (Jul 23, 2014)</li><li>Luke Hoffmann (Jul 23, 2014)</li><li>Natalie Culp (Jul 23, 2014)</li><li>Anna Stewart (Jul 23, 2014)</li><li>Connor Lievers (Jul 23, 2014)</li><li>Andre Jones (Jul 22, 2014)</li><li>Erica Slowik (Jul 22, 2014)</li><li>Charlie Reinhart (Jul 22, 2014)</li><li>Guilherme Apollonio (Jul 22, 2014)</li><li>Keith Mitchell (Jul 22, 2014)</li><li>Bess Grode (Jul 22, 2014)</li><li>Madison Olandt (Jul 22, 2014)</li><li>Brianna Kaplan (Jul 22, 2014)</li><li>Carling Farley (Jul 22, 2014)</li><li>Hannah Park (Jul 22, 2014)</li><li>Cash Cashell (Jul 21, 2014)</li><li>Gioia Tornaghi (Jul 15, 2014)</li><li>Sara Rodgers (Jul 11, 2014)</li><li>Stephanie Matteson (Jul 11, 2014)</li><li>Damina Farhat (Jul 10, 2014)</li><li>Chloe Fries (Jul 10, 2014)</li><li>Christina Lang (Jul 9, 2014)</li><li>Lilienne Cullen (Jul 8, 2014)</li><li>Bobbie Nickel (Jul 8, 2014)</li><li>Taryn Blaine Seidel (Jul 7, 2014)</li><li>Matthew Smiller (Jul 6, 2014)</li><li>Michael Short (Jul 5, 2014)</li><li>Devin Tang (Jul 5, 2014)</li><li>Jacey Dolstra (Jun 29, 2014)</li><li>Al Schaffer (Jun 29, 2014)</li><li>Mona Snodgrass (Jun 27, 2014)</li><li>Gina Linehan (Jun 23, 2014)</li><li>Kirstyn Pagano (Jun 16, 2014)</li><li>Lauren Barbara (Jun 12, 2014)</li><li>Marty Fielding (Jun 10, 2014)</li><li>Ali Iraheta (Jun 9, 2014)</li><li>Megan Mayer (Jun 9, 2014)</li><li>Joshua Spieker (Jun 9, 2014)</li><li>Emilie Rochelle-Bâby Wolfe (Jun 7, 2014)</li><li>Olivia London (Jun 2, 2014)</li><li>Michael Sassounian (Jun 2, 2014)</li><li>Jonathan Kaplan (Jun 2, 2014)</li><li>Nitin Kale (May 31, 2014)</li><li>Shan Aggarwal (May 23, 2014)</li><li>Berkley Price (May 23, 2014)</li><li>Max Sieck (May 22, 2014)</li><li>Kevin Macario (May 22, 2014)</li><li>Will Matthews (May 22, 2014)</li><li>Kevin Patterson (May 12, 2014)</li><li>Alex Roberts (May 12, 2014)</li><li>Brandon Virgoe (Apr 26, 2014)</li><li>Andrea Gordon (Apr 22, 2014)</li><li>Allan Laguna (Apr 15, 2014)</li><li>Kay Larz (Apr 14, 2014)</li><li>Carly Migdal (Apr 14, 2014)</li><li>Brianna Heller (Apr 10, 2014)</li><li>Roberto Roberto (Apr 7, 2014)</li><li>Myles Vandegrift Opms Parker (Apr 3, 2014)</li><li>Steve Koch (Mar 27, 2014)</li><li>Tim Erdmann (Mar 26, 2014)</li><li>Trevor Laehy (Mar 21, 2014)</li><li>Pisa Puva (Mar 19, 2014)</li><li>Katt Mostah (Mar 15, 2014)</li><li>Ryan Blocker (Mar 14, 2014)</li><li>Mojca Grilc Ropret (Mar 1, 2014)</li><li>Sid Bhargava (Feb 22, 2014)</li><li>Adelina Landi (Feb 14, 2014)</li><li>Sam Haws (Feb 6, 2014)</li><li>Cody Kolodziejzyk (Feb 5, 2014)</li><li>Gabrielle Kelly (Feb 4, 2014)</li><li>Billy Shipp (Feb 3, 2014)</li><li>Gina Tsai Yu (Feb 3, 2014)</li><li>Cassidy Sossaman Puckett (Jan 23, 2014)</li><li>Cray Lee (Jan 10, 2014)</li><li>Aaron Bradshaw (Jan 1, 2014)</li><li>Dault Lee (Dec 21, 2013)</li><li>Jordan Amanda (Dec 3, 2013)</li><li>Joey Malhas (Nov 26, 2013)</li><li>Colleen Moore (Nov 19, 2013)</li><li>Maddie Lyon (Nov 9, 2013)</li><li>Alyssa Pettingill (Nov 6, 2013)</li><li>Adam Weiss (Nov 4, 2013)</li><li>Diane Brown (Nov 3, 2013)</li><li>Cesar Toledo (Oct 30, 2013)</li><li>Jonathan Sauer (Oct 29, 2013)</li><li>Allie Martin (Oct 29, 2013)</li><li>Jorge Mendoza (Oct 25, 2013)</li><li>Emma Eret (Oct 10, 2013)</li><li>Eric Poincenot (Sep 28, 2013)</li><li>Megan Bradley (Sep 2, 2013)</li><li>Chase Alderton (Aug 6, 2013)</li><li>Britt Lambert (Jul 30, 2013)</li><li>Alix Gaspar (Jul 28, 2013)</li><li>Casey Muldoon (Jul 27, 2013)</li><li>Jessica Cohen Earp (Jul 27, 2013)</li><li>Aurelius Miller (Jul 24, 2013)</li><li>Andrew Taube (Jul 24, 2013)</li><li>McKinley Horwitz (Jul 17, 2013)</li><li>Mike DePaola (Jul 17, 2013)</li><li>Maria Shafer (Jul 9, 2013)</li><li>Dan Noal (Jul 9, 2013)</li><li>Charlene Underhill Miller (Jul 2, 2013)</li><li>Dan R Stockalper (Jun 25, 2013)</li><li>Amjed Aboukhadijeh (May 29, 2013)</li><li>Diego Rubio (May 29, 2013)</li><li>Christian Rodriguez (May 22, 2013)</li><li>Carlye Rosen (May 15, 2013)</li><li>Annie Mooney (May 13, 2013)</li><li>Taylor Pitz (May 4, 2013)</li><li>Drew Edell (May 4, 2013)</li><li>Sam Kober (May 1, 2013)</li><li>Alexander Schack (Apr 30, 2013)</li><li>Emily Altieri (Apr 29, 2013)</li><li>Mithun Mahinda (Apr 29, 2013)</li><li>Mike Richardson (Apr 23, 2013)</li><li>Holly Katrina (Apr 17, 2013)</li><li>Cody Sakurao (Apr 11, 2013)</li><li>Sam David (Apr 9, 2013)</li><li>Elliot Plant (Apr 8, 2013)</li><li>Miki Holmes (Apr 8, 2013)</li><li>Kyleigh Jeannette (Apr 7, 2013)</li><li>Ron Arbel (Apr 3, 2013)</li><li>Irlanda Rubi Almendarez (Apr 1, 2013)</li><li>Cozy Hogan (Mar 28, 2013)</li><li>Charlie Hall (Mar 28, 2013)</li><li>Timothy Lee (Mar 28, 2013)</li><li>Hannah Jack (Mar 28, 2013)</li><li>Ali Wolff (Mar 28, 2013)</li><li>Matt O'Brien (Mar 28, 2013)</li><li>Kate Lattman (Mar 28, 2013)</li><li>Chloe Hood (Mar 28, 2013)</li><li>Sarah Sizemore (Mar 28, 2013)</li><li>Lila Gavares (Mar 28, 2013)</li><li>Wasey Noori (Mar 28, 2013)</li><li>Sophia Paik (Mar 14, 2013)</li><li>Lauren Zimmerman (Mar 12, 2013)</li><li>Lindsie Levinson (Mar 12, 2013)</li><li>Shawn Yazdanmehr (Mar 10, 2013)</li><li>Stephanie Brown (Mar 8, 2013)</li><li>Derek Twomey (Mar 4, 2013)</li><li>Katie Jensen (Mar 4, 2013)</li><li>Andrew Bailey IV (Mar 4, 2013)</li><li>Lexii Moffett (Mar 3, 2013)</li><li>Amanda Fox (Mar 3, 2013)</li><li>David Wallace (Mar 3, 2013)</li><li>Shawn Steggink (Feb 28, 2013)</li><li>Bryan Hee (Feb 26, 2013)</li><li>Minali Mohindra (Feb 24, 2013)</li><li>Samantha Ahern (Feb 21, 2013)</li><li>Kendle Grosso (Feb 21, 2013)</li><li>Joshua Won (Feb 21, 2013)</li><li>Karin Swanson (Feb 21, 2013)</li><li>Nivedita Kar (Feb 21, 2013)</li><li>James Victor (Feb 19, 2013)</li><li>Ariana Sommer (Feb 18, 2013)</li><li>Arya Shariat (Feb 18, 2013)</li><li>Sarah Mathison (Feb 18, 2013)</li><li>Roj Kavash (Feb 18, 2013)</li><li>Monica Avakian (Feb 18, 2013)</li><li>Matthew Patrick (Feb 18, 2013)</li><li>David Self (Feb 18, 2013)</li><li>Garima Verma (Feb 18, 2013)</li><li>Matt Frederickson (Feb 15, 2013)</li><li>Jane Desmond (Feb 12, 2013)</li><li>Michelle Llbrt (Feb 12, 2013)</li><li>Koko Tanaka (Feb 10, 2013)</li><li>Morgan Rt (Feb 10, 2013)</li><li>Tasha Wenger (Feb 8, 2013)</li><li>Junie Lim (Feb 6, 2013)</li><li>Serafino Gonzalez (Feb 4, 2013)</li><li>Emily Donnelly (Feb 3, 2013)</li><li>Aviv Lazar (Jan 31, 2013)</li><li>Kaitlin Sharpe (Jan 27, 2013)</li><li>Sarah Magluyan (Jan 25, 2013)</li><li>Brianna Ruland (Jan 24, 2013)</li><li>Anika Niazi (Jan 23, 2013)</li><li>Job Sy (Jan 23, 2013)</li><li>Carina Lantz (Jan 22, 2013)</li><li>Lindsay Miller (Jan 21, 2013)</li><li>Ashley Kim (Jan 21, 2013)</li><li>Amitai Porat (Jan 18, 2013)</li><li>Megan Jacobi (Jan 14, 2013)</li><li>Rachael Treadwell (Jan 14, 2013)</li><li>Yasar Mohebi (Jan 13, 2013)</li><li>Halee Marie (Jan 11, 2013)</li><li>Natalie Marie (Jan 8, 2013)</li><li>Kimberly Horn (Jan 6, 2013)</li><li>Kristina Koorstad (Jan 6, 2013)</li><li>Becca Sameyah (Jan 5, 2013)</li><li>Aria Zommers (Jan 5, 2013)</li><li>Brittany Oudewaal (Jan 5, 2013)</li><li>Kylie Marie (Jan 5, 2013)</li><li>Alexander Jimenez (Dec 24, 2012)</li><li>Ryan Tower (Dec 24, 2012)</li><li>Alyssa Nicole (Dec 21, 2012)</li><li>Renee Jonas (Dec 6, 2012)</li><li>Mikki Leach (Dec 4, 2012)</li><li>Jeremy Reynard (Nov 30, 2012)</li><li>Dave Anders-Richards (Nov 29, 2012)</li><li>Lisa Phan (Nov 28, 2012)</li><li>Kristen Fuller (Nov 27, 2012)</li><li>Kyle Ruane (Nov 27, 2012)</li><li>Kyle Webster (Nov 24, 2012)</li><li>Angelina Gonzalez (Nov 24, 2012)</li><li>Dima Litvak (Nov 22, 2012)</li><li>Zack Scheinholz (Nov 21, 2012)</li><li>Samantha Oto (Nov 19, 2012)</li><li>Elliott Yancy (Nov 15, 2012)</li><li>Grant Rigdon (Nov 11, 2012)</li><li>Ashley Rosenberg (Nov 5, 2012)</li><li>Danny Gassuan (Nov 5, 2012)</li><li>Ty Beach (Nov 5, 2012)</li><li>Grant Guess (Nov 4, 2012)</li><li>Autumn Victoria (Nov 4, 2012)</li><li>Tia Dreier (Nov 3, 2012)</li><li>Jack Cronin (Nov 2, 2012)</li><li>Connor Rosenbaum (Nov 2, 2012)</li><li>David Mickle (Nov 1, 2012)</li><li>Matthew Hurst (Nov 1, 2012)</li><li>Rebeca Poore (Oct 31, 2012)</li><li>Christina Callas (Oct 31, 2012)</li><li>Maxwell A. Harrington (Oct 31, 2012)</li><li>Nick Lamkin (Oct 31, 2012)</li><li>Stephen Kraman (Oct 31, 2012)</li><li>Nicole Haworth (Oct 31, 2012)</li><li>Sam Wilbur (Oct 30, 2012)</li><li>Nicki Spencer (Oct 29, 2012)</li><li>Tyler Ramsey (Oct 29, 2012)</li><li>Spencer Louie (Oct 29, 2012)</li><li>Leslie Heguy (Oct 28, 2012)</li><li>Laura Van Voorhis (Oct 26, 2012)</li><li>Katie Shannon (Oct 26, 2012)</li><li>Danielle Dondanville (Oct 25, 2012)</li><li>Charlie Falconer (Oct 25, 2012)</li><li>Julian Shojaie (Oct 25, 2012)</li><li>Kyra Dee (Oct 25, 2012)</li><li>Safia Mirabella (Oct 25, 2012)</li><li>Sarah Pontius (Oct 25, 2012)</li><li>Peeta Chien (Oct 24, 2012)</li><li>Aidan Joseph (Oct 23, 2012)</li><li>Ryan Peabody (Oct 22, 2012)</li><li>Jonathan Hawkins (Oct 22, 2012)</li><li>Alli Berk (Oct 21, 2012)</li><li>Justin Duong (Oct 21, 2012)</li><li>Cate Choy (Oct 18, 2012)</li><li>Shannon Wailes (Oct 17, 2012)</li><li>Taryn McLaughlin (Oct 17, 2012)</li><li>Olivia Annacone (Oct 16, 2012)</li><li>Erin Roodhuyzen (Oct 16, 2012)</li><li>Skyler Ferry (Oct 16, 2012)</li><li>Emily Ravenly (Oct 16, 2012)</li><li>Maddy Kenz (Oct 16, 2012)</li><li>Saylor Gibbs (Oct 16, 2012)</li><li>Nicholis Taylor (Oct 16, 2012)</li><li>Allison Hornstra (Oct 16, 2012)</li><li>Amy Mitchell (Oct 16, 2012)</li><li>Annie Randolph (Oct 16, 2012)</li><li>Jeremy Keone Gozzip (Oct 16, 2012)</li><li>Cullen McAlpine (Oct 16, 2012)</li><li>Chandler Mongo (Oct 16, 2012)</li><li>Zknvć Irić (Oct 16, 2012)</li><li>Josh Feldman (Oct 16, 2012)</li><li>Emily Mathison (Oct 16, 2012)</li><li>Rachel Bass (Oct 16, 2012)</li><li>Kelly Kaine (Oct 16, 2012)</li><li>Erin Mirski (Oct 16, 2012)</li><li>Andrew Ho (Oct 16, 2012)</li><li>Benjamin White (Oct 15, 2012)</li><li>Julia Chambers (Oct 14, 2012)</li><li>Kenzie Tankersley (Oct 8, 2012)</li><li>Emily VH (Oct 8, 2012)</li><li>Elbek Abasov (Oct 2, 2012)</li><li>Ashley Benny (Sep 24, 2012)</li><li>Noam Kohane Taylor (Sep 21, 2012)</li><li>Danielle Nicole (Sep 18, 2012)</li><li>Kimmie Maher (Sep 10, 2012)</li><li>Kerissa Dinger (Aug 26, 2012)</li><li>Desirae Nicholson (Aug 19, 2012)</li><li>Evan Gorzeman (Aug 15, 2012)</li><li>Faith Elizabeth (Aug 13, 2012)</li><li>Lyndsie Cornette (Jul 24, 2012)</li><li>Drew Exon (Jul 24, 2012)</li><li>Drew Scripps (Jul 22, 2012)</li><li>Kiki Katsev (Jul 16, 2012)</li><li>Hauoli Scott (Jun 29, 2012)</li><li>Gehrig Browning Jr. (Jun 21, 2012)</li><li>Veronika Wuest (Jun 15, 2012)</li><li>Jonny Furuta (Jun 12, 2012)</li><li>Chelsea Gradoville (Jun 11, 2012)</li><li>Sean Perez (Jun 11, 2012)</li><li>Gabriel Gutierrez (Jun 11, 2012)</li><li>Tosh Soulburger (Jun 11, 2012)</li><li>Ariel Cohen (Jun 10, 2012)</li><li>Lindsay Gersten (Jun 7, 2012)</li><li>Kaylee O'Connor (Jun 6, 2012)</li><li>Jake Larson (Jun 4, 2012)</li><li>Mande Adams (May 31, 2012)</li><li>Marq Watson (May 30, 2012)</li><li>Vince Lin (May 27, 2012)</li><li>Jiyoon Cho (May 24, 2012)</li><li>Lola Viggi (May 24, 2012)</li><li>Mandy Jo (May 24, 2012)</li><li>Steven Tohmasi (May 21, 2012)</li><li>Vivian Dang (May 19, 2012)</li><li>Julia Saunders (May 18, 2012)</li><li>Kevin Carlson (May 14, 2012)</li><li>David Giroux (May 7, 2012)</li><li>Kelly Burley (May 3, 2012)</li><li>Nikki Trone (Apr 30, 2012)</li><li>Mike Souza (Apr 29, 2012)</li><li>Jackson McNeill (Apr 29, 2012)</li><li>Clay Ton (Apr 22, 2012)</li><li>Sara Warner (Apr 17, 2012)</li><li>Stephanie Ann (Apr 17, 2012)</li><li>Sahil Seth (Apr 17, 2012)</li><li>Katya Lavine (Apr 8, 2012)</li><li>Amber Fearon (Apr 4, 2012)</li><li>Melanie Luis (Apr 3, 2012)</li><li>Maggie Wessell (Apr 3, 2012)</li><li>Jilleen Ward (Mar 31, 2012)</li><li>Carina Martin (Mar 31, 2012)</li><li>Adam Joseph (Mar 31, 2012)</li><li>Jacques Fontenot (Mar 28, 2012)</li><li>Cat Inoue (Mar 5, 2012)</li><li>Jake Jacobi Fleming (Mar 2, 2012)</li><li>Esha Momeni (Feb 29, 2012)</li><li>Cristina Rose (Feb 29, 2012)</li><li>Allie Moskovits (Feb 27, 2012)</li><li>Michelle Adriana Kim (Feb 26, 2012)</li><li>Alexa Stykel (Feb 26, 2012)</li><li>Bryan Chang (Feb 26, 2012)</li><li>Amanda Feinberg (Feb 26, 2012)</li><li>Nate Christy (Feb 26, 2012)</li><li>Stephanie Schultheis (Feb 26, 2012)</li><li>Roberta McIntosh (Feb 26, 2012)</li><li>Kaitlyn Plunkett (Feb 26, 2012)</li><li>Kaela Fonzi (Feb 26, 2012)</li><li>Jake Collins (Feb 26, 2012)</li><li>Brent Harris (Feb 26, 2012)</li><li>Vicki Fiscus Simmons (Feb 26, 2012)</li><li>Ashley Eye (Feb 26, 2012)</li><li>Ella Hasan (Feb 26, 2012)</li><li>Amy Wisdom (Feb 26, 2012)</li><li>Dobbie Madeyski (Feb 26, 2012)</li><li>Morgs Thomas (Feb 26, 2012)</li><li>Jeff Howell (Feb 26, 2012)</li><li>Corey Burrill (Feb 26, 2012)</li><li>Sierra Smith (Feb 26, 2012)</li><li>Amanda Gonsalez (Feb 26, 2012)</li><li>Ginelle Wolfe (Feb 26, 2012)</li><li>Spencer Krause (Feb 26, 2012)</li><li>Ben Manclark (Feb 26, 2012)</li><li>Joani Georgeson (Feb 26, 2012)</li><li>Aaron Wolfe (Feb 26, 2012)</li><li>Sarah Hendry (Feb 26, 2012)</li><li>Annika Meurer (Feb 26, 2012)</li><li>Jacob Bickman (Feb 26, 2012)</li><li>Laura Krenek (Feb 26, 2012)</li><li>Anijke Simon (Feb 26, 2012)</li><li>Ari Simon (Feb 26, 2012)</li><li>Asher Simon (Feb 26, 2012)</li><li>Natalie Brainin (Feb 26, 2012)</li><li>Kelsey Willingham (Feb 26, 2012)</li><li>Ryan Blank (Feb 26, 2012)</li><li>Jared Copeland (Feb 26, 2012)</li><li>Abby Mahler (Feb 26, 2012)</li><li>Brundage Jacob (Feb 26, 2012)</li><li>Jesus Din (Feb 26, 2012)</li><li>Sara Knobel (Feb 26, 2012)</li><li>Laurabeth Copeland (Feb 26, 2012)</li><li>Danielle Wolf (Feb 26, 2012)</li><li>Quinn Rothman (Feb 26, 2012)</li><li>Warren Case (Feb 26, 2012)</li><li>Alexandria Hay (Feb 26, 2012)</li><li>Rose Moreno (Feb 26, 2012)</li><li>Johnny Brady (Feb 26, 2012)</li><li>John Ansorge (Feb 26, 2012)</li><li>Owen Rothman (Feb 26, 2012)</li><li>Ralph Kennedy (Feb 26, 2012)</li><li>Nick Komodina (Feb 26, 2012)</li><li>F Jesus Sosa (Feb 26, 2012)</li><li>Chelsey Taeya Kruse (Feb 26, 2012)</li><li>Danny Cowan (Feb 26, 2012)</li><li>Trevor Mauldin (Feb 26, 2012)</li><li>Christa Perez (Feb 26, 2012)</li><li>Lucy Rogers (Feb 26, 2012)</li><li>Devin Aguayo (Feb 26, 2012)</li><li>Lil-Tay Brown (Feb 26, 2012)</li><li>Keith Fowler (Feb 26, 2012)</li><li>Shamanda Beard (Feb 26, 2012)</li><li>Aleezilla LaRae Quinn (Feb 26, 2012)</li><li>Ace Estwick (Feb 26, 2012)</li><li>Jordan Horowitz (Feb 26, 2012)</li><li>Christopher Gieser (Feb 26, 2012)</li><li>Kristy Keyes (Feb 26, 2012)</li><li>Sarah Lough (Feb 26, 2012)</li><li>Uclaestudiantes Barquisimeto (Feb 26, 2012)</li><li>Jaycee Lynn (Feb 26, 2012)</li><li>Alexa Barsamian (Feb 26, 2012)</li><li>Carly Yoshida (Feb 26, 2012)</li><li>Claire Burtner (Feb 20, 2012)</li><li>Dane Worley (Feb 19, 2012)</li><li>Kimberly Auton (Feb 16, 2012)</li><li>Sabrina Azevedo (Feb 16, 2012)</li><li>Chelsea Braesch (Feb 16, 2012)</li><li>Marshall Byrne (Feb 15, 2012)</li><li>Caroline Olivier (Feb 11, 2012)</li><li>David Bocarsly (Feb 10, 2012)</li><li>Jackson Skaggs (Feb 10, 2012)</li><li>Barbara Horne-Petersdorf (Feb 10, 2012)</li><li>Sandra Atuegbu (Feb 10, 2012)</li><li>Delphine Bch (Feb 4, 2012)</li><li>Jenna Belknap (Feb 1, 2012)</li><li>Wilson Melbostad (Jan 30, 2012)</li><li>Kelli LaRocca (Jan 29, 2012)</li><li>Tina Theriot (Jan 27, 2012)</li><li>Serena Lomonico (Jan 25, 2012)</li><li>Nina Del Mundo (Jan 24, 2012)</li><li>JoLinda Georgeson (Jan 23, 2012)</li><li>Maria Christine (Jan 22, 2012)</li><li>Dylan Matteson (Jan 21, 2012)</li><li>Nicolette Leffler (Jan 21, 2012)</li><li>Ashwin Subramanian (Jan 21, 2012)</li><li>Sheridan Siegel (Jan 20, 2012)</li><li>Lindsey Anne (Jan 15, 2012)</li><li>Martine Ehrlich (Jan 13, 2012)</li><li>Alyx Yankaskas (Jan 12, 2012)</li><li>Sam Sirell (Jan 7, 2012)</li><li>Andrew Pedron (Jan 6, 2012)</li><li>Rachel Ann Romano (Jan 6, 2012)</li><li>Stephanie Kuo (Jan 6, 2012)</li><li>Danielle Silver (Jan 6, 2012)</li><li>Abby Dann (Jan 6, 2012)</li><li>Farrah Powell (Dec 17, 2011)</li><li>Alexis Tores (Dec 10, 2011)</li><li>Annie Humphrey (Dec 8, 2011)</li><li>Noor Al-Alusi (Dec 6, 2011)</li><li>Salma Elbarmawi (Dec 5, 2011)</li><li>Christina Lowry (Dec 3, 2011)</li><li>Ashley Kirby (Dec 2, 2011)</li><li>Laura Masho (Nov 27, 2011)</li><li>Samie Gilford (Nov 27, 2011)</li><li>Ryan Helson (Nov 19, 2011)</li><li>Megan Case (Nov 12, 2011)</li><li>Marita Meyer (Nov 12, 2011)</li><li>Ken AfriKen (Nov 8, 2011)</li><li>Dolapo Sangokoya (Nov 7, 2011)</li><li>Cori Campbell (Nov 6, 2011)</li><li>Daniel Esguerra (Nov 4, 2011)</li><li>Riana Cerceo (Nov 4, 2011)</li><li>Claire Fraisl (Nov 3, 2011)</li><li>Dani Schugg (Nov 2, 2011)</li><li>Kevin Sweetwood (Oct 28, 2011)</li><li>Emma Trim (Oct 27, 2011)</li><li>Teddy Hennes (Oct 27, 2011)</li><li>Ellen Lomonico (Oct 23, 2011)</li><li>Garrett Thomas (Oct 20, 2011)</li><li>Aaron Oppenheimer (Oct 18, 2011)</li><li>August Jones (Oct 16, 2011)</li><li>Chris Hicks (Oct 16, 2011)</li><li>Rachel Venturino (Oct 13, 2011)</li><li>Stephen Paul (Oct 11, 2011)</li><li>Cameron Moattari (Oct 11, 2011)</li><li>Connor Brownell (Oct 11, 2011)</li><li>Lauren Fish (Oct 10, 2011)</li><li>Veronica Sperry (Oct 9, 2011)</li><li>Zake Merit (Oct 9, 2011)</li><li>Preston Risser (Oct 9, 2011)</li><li>Quinn Ryan (Oct 9, 2011)</li><li>Jenny Jaucian (Oct 9, 2011)</li><li>Marlena Sampson (Oct 9, 2011)</li><li>Gianna Sen-Gupta (Oct 9, 2011)</li><li>Caroline Ponce de Leon (Oct 9, 2011)</li><li>Meg-n Marie (Oct 9, 2011)</li><li>Kory DiGrande (Oct 9, 2011)</li><li>Eric Nguyen (Oct 9, 2011)</li><li>Keith Corbalis (Oct 9, 2011)</li><li>Luca Genasci (Oct 7, 2011)</li><li>Nick LaRosa (Oct 7, 2011)</li><li>Emma DiFilippo (Oct 7, 2011)</li><li>Craig McKennon (Oct 6, 2011)</li><li>Kevin Robinson (Oct 6, 2011)</li><li>Ben Goldsmith (Oct 5, 2011)</li><li>Luke Napier (Oct 4, 2011)</li><li>Ron Ayzin (Oct 3, 2011)</li><li>Daniel Porat (Oct 2, 2011)</li><li>Dana Jo (Oct 2, 2011)</li><li>Lorrin Rondeau (Sep 14, 2011)</li><li>Kimberlee Zweber (Sep 14, 2011)</li><li>Michelle Rice (Sep 9, 2011)</li><li>Kirstie Ruppert (Sep 8, 2011)</li><li>Sarah Mertel (Sep 7, 2011)</li><li>Tanner Heaphy (Sep 1, 2011)</li><li>Zach Piehl (Aug 22, 2011)</li><li>Nova Wang (Aug 19, 2011)</li><li>Rusdeep Mundae (Aug 19, 2011)</li><li>Roni LaPierre (Aug 19, 2011)</li><li>Reilly Gorman (Aug 16, 2011)</li><li>Bridget Case (Aug 14, 2011)</li><li>Hope England (Aug 14, 2011)</li><li>Clara Merlino (Aug 14, 2011)</li><li>Tori LaPierre (Aug 14, 2011)</li><li>Dana Spitz (Aug 14, 2011)</li><li>Morissa O'Mara (Aug 11, 2011)</li><li>Allie LaPierre Davies (Aug 11, 2011)</li><li>Michele Grogin (Aug 11, 2011)</li><li>Jillian Frager (Aug 9, 2011)</li><li>Jared Buccola (Aug 9, 2011)</li><li>Jonathan Knobel (Aug 9, 2011)</li><li>Rachel Audrey (Aug 1, 2011)</li><li>Danielle Ford (Jul 30, 2011)</li><li>Mikaela Welton (Jul 25, 2011)</li><li>Bitsy Rich (Jul 25, 2011)</li><li>Kimberly Burnell (Jul 25, 2011)</li><li>Dane Nightingale (Jul 20, 2011)</li><li>Alex Morrison (Jul 12, 2011)</li><li>Nick Frazier (Jul 3, 2011)</li><li>Kessa Palchikoff (Jul 1, 2011)</li><li>Kyle Lau (Jun 18, 2011)</li><li>Jordan McKay Edwards (Jun 17, 2011)</li><li>Henry Okoroike (Jun 15, 2011)</li><li>Alexandria Pullen (Jun 14, 2011)</li><li>Kevin Ruane (Jun 8, 2011)</li><li>Alex Rios (Jun 7, 2011)</li><li>Gentry Alverson (Jun 6, 2011)</li><li>Linden Olberg (May 31, 2011)</li><li>Ajwang Rading (May 30, 2011)</li><li>Michael Bromberg (May 29, 2011)</li><li>Andrew Sumarsono (May 27, 2011)</li><li>Kate Armstrong (May 27, 2011)</li><li>Caroline Ely (May 26, 2011)</li><li>Amanda Haas (May 20, 2011)</li><li>Zack Torres (May 20, 2011)</li><li>Matthew Flesock (May 16, 2011)</li><li>Curt Michael (May 15, 2011)</li><li>Kelsey Hutcheson (May 15, 2011)</li><li>Andrew Tassinari (May 15, 2011)</li><li>Lani Dieterich (May 14, 2011)</li><li>Danny Durazo (May 14, 2011)</li><li>Danielle Layous (May 13, 2011)</li><li>Monica Montalvo (May 13, 2011)</li><li>Rachel X-Ray Borowski (May 10, 2011)</li><li>Michael Tubbs (May 10, 2011)</li><li>Jacob Volen (May 9, 2011)</li><li>David Crane (May 9, 2011)</li><li>Peter Slowik (May 9, 2011)</li><li>Jessi Hampton (May 9, 2011)</li><li>John Connaghan Miklas (May 9, 2011)</li><li>Tim Krause (May 9, 2011)</li><li>Madeleine Mountain (May 9, 2011)</li><li>Maiah Parks (May 9, 2011)</li><li>Suzy Strutner (May 9, 2011)</li><li>Alexa Golden (May 8, 2011)</li><li>Awbrey Gould (May 8, 2011)</li><li>Ben Davies (May 8, 2011)</li><li>Caitlyn Calfas (May 8, 2011)</li><li>Kelsey Dougherty (May 8, 2011)</li><li>Alex Vergel (May 8, 2011)</li><li>Alisa Oko Okamoto (May 8, 2011)</li><li>Billy Edwards (May 8, 2011)</li><li>Inno Ekeh (May 8, 2011)</li><li>Garrett Riley McPerry (May 8, 2011)</li><li>Ashley Broussard (May 8, 2011)</li><li>Brett Perrotta (May 8, 2011)</li><li>Brittney O'Connor (May 7, 2011)</li><li>Tess Lombardo (May 6, 2011)</li><li>Remy Paige Kresser (May 5, 2011)</li><li>Chris Lee (May 4, 2011)</li><li>Nate Tom (May 4, 2011)</li><li>Paige Schifferli (May 3, 2011)</li><li>Daniel Chikanov (Apr 30, 2011)</li><li>Hayley Robinson (Apr 29, 2011)</li><li>Carey Appeldorn (Apr 27, 2011)</li><li>Nic Rinella (Apr 26, 2011)</li><li>J Benson Apte (Apr 26, 2011)</li><li>Katie Aronat (Apr 25, 2011)</li><li>Bryan Seversky (Apr 25, 2011)</li><li>Nikki Lazaran (Apr 25, 2011)</li><li>Brandon Chan (Apr 25, 2011)</li><li>Ilsa Levine (Apr 24, 2011)</li><li>Kelly Knickerbocker De Los Santos (Apr 23, 2011)</li><li>Tommy Clapp (Apr 21, 2011)</li><li>Burke Walton (Apr 21, 2011)</li><li>Jared Engler (Apr 20, 2011)</li><li>Roxy Thrapp (Apr 18, 2011)</li><li>Kevin Smith (Apr 16, 2011)</li><li>Shayan Senaati (Apr 16, 2011)</li><li>Nakul Gulati (Apr 13, 2011)</li><li>Bradley Knitz (Apr 12, 2011)</li><li>Justin Spring (Apr 12, 2011)</li><li>Alexandra Mandel (Apr 10, 2011)</li><li>Brandon Bakhshi (Apr 10, 2011)</li><li>Ryan Samii (Apr 9, 2011)</li><li>Zach White (Apr 9, 2011)</li><li>Aditya Puri (Apr 9, 2011)</li><li>George Elwood-Miranda (Apr 6, 2011)</li><li>Amanda Hill (Apr 3, 2011)</li><li>Rob Spurzem (Mar 31, 2011)</li><li>Laina Petrinec (Mar 30, 2011)</li><li>Tommy Cowan (Mar 30, 2011)</li><li>Vera Fink (Mar 29, 2011)</li><li>Nick Wilson (Mar 28, 2011)</li><li>Ally Cappiello (Mar 27, 2011)</li><li>Brianna Fischer (Mar 26, 2011)</li><li>Yvonda Haido (Mar 22, 2011)</li><li>Meredith Callan (Mar 22, 2011)</li><li>Chelsea Martell (Mar 22, 2011)</li><li>Anh B Nguyen (Mar 21, 2011)</li><li>Tom Mertel (Mar 21, 2011)</li><li>Margaret Gardner (Mar 20, 2011)</li><li>Madelyn Ross (Mar 17, 2011)</li><li>Michael Palumbo (Mar 14, 2011)</li><li>Sophia WL (Mar 12, 2011)</li><li>Blake Carson (Mar 8, 2011)</li><li>Bridgette Pighin (Mar 6, 2011)</li><li>Timothy Oakes (Mar 3, 2011)</li><li>Michael Wong (Mar 1, 2011)</li><li>Jake Pearring (Feb 28, 2011)</li><li>Tom de la Torre (Feb 28, 2011)</li><li>Justin Hutton (Feb 28, 2011)</li><li>Nav Rai (Feb 24, 2011)</li><li>Jackie Watson (Feb 23, 2011)</li><li>Erin Crumley (Feb 23, 2011)</li><li>Alex Achamallah (Feb 23, 2011)</li><li>Sierra Kaslow (Feb 22, 2011)</li><li>Wilson Lee (Feb 21, 2011)</li><li>Kelsie Rebecca Lofland (Feb 21, 2011)</li><li>Danielle Hofmann (Feb 21, 2011)</li><li>Catherine Jacobs (Feb 21, 2011)</li><li>Jackie Shepard (Feb 21, 2011)</li><li>Darby Bukowski (Feb 20, 2011)</li><li>Emma Basaran (Feb 20, 2011)</li><li>Pat Laws (Feb 18, 2011)</li><li>Katie Moffa (Feb 17, 2011)</li><li>Erica Taylor (Feb 17, 2011)</li><li>Alison Azera (Feb 16, 2011)</li><li>Becca Lawton (Feb 13, 2011)</li><li>Rheann Watts (Feb 10, 2011)</li><li>Chelsea Moore (Feb 8, 2011)</li><li>Kaitlin Jones (Feb 2, 2011)</li><li>Alex Souch (Jan 30, 2011)</li><li>Carly Porter (Jan 27, 2011)</li><li>Michael Glass (Jan 24, 2011)</li><li>Kim Whelehon (Jan 24, 2011)</li><li>Eva Gabrielsen (Jan 23, 2011)</li><li>Jonny Winfield (Jan 22, 2011)</li><li>Georgia Tomas (Jan 20, 2011)</li><li>Maalips Phom (Jan 20, 2011)</li><li>Maddie McCormick (Jan 20, 2011)</li><li>Chethan Kos (Jan 18, 2011)</li><li>Lorraine Rodrigues de Carvalho (Jan 16, 2011)</li><li>Kara Leary (Jan 16, 2011)</li><li>Sam Moore (Jan 15, 2011)</li><li>Marissa Nagler (Jan 15, 2011)</li><li>Alisa True-Daniels (Jan 15, 2011)</li><li>Emily Holden (Jan 11, 2011)</li><li>Chris Carpenter (Jan 8, 2011)</li><li>Evan Shugerman (Jan 8, 2011)</li><li>Alex Schrick (Jan 7, 2011)</li><li>Abithagail Smithington (Jan 6, 2011)</li><li>Garrett Cheung (Jan 6, 2011)</li><li>Abby Gould (Jan 4, 2011)</li><li>Blake Charbonneau (Jan 3, 2011)</li><li>Lili Kroll (Dec 20, 2010)</li><li>Allyson Taylor (Dec 17, 2010)</li><li>Nate Kai Tsang (Dec 14, 2010)</li><li>Dana Linda (Dec 13, 2010)</li><li>Al Calvanico (Dec 8, 2010)</li><li>Brittany Cirks (Dec 6, 2010)</li><li>Carolyn Collins (Dec 6, 2010)</li><li>Kendall Waters (Dec 6, 2010)</li><li>Warren Hardie (Dec 5, 2010)</li><li>Chelsea Frazar (Nov 23, 2010)</li><li>Jahan Djo (Nov 23, 2010)</li><li>Elycia Scriven (Nov 20, 2010)</li><li>Allison Goldstein (Nov 20, 2010)</li><li>Amanda Schack (Nov 18, 2010)</li><li>Morgan Piper (Nov 17, 2010)</li><li>Mel Chalian (Nov 16, 2010)</li><li>Kenzie Lauren (Nov 13, 2010)</li><li>Alex T Pough (Nov 13, 2010)</li><li>Scott McAfee (Nov 11, 2010)</li><li>Jill Nettleton (Nov 11, 2010)</li><li>Brandon Kelderman (Nov 8, 2010)</li><li>Ryan Hank Foo (Nov 7, 2010)</li><li>Tati Fregosi (Nov 6, 2010)</li><li>Becca Guselli (Nov 6, 2010)</li><li>Kaitlyn Williams (Nov 6, 2010)</li><li>Cynthia Lee (Nov 6, 2010)</li><li>Kelsie Sandoval (Nov 6, 2010)</li><li>Ryan James (Nov 6, 2010)</li><li>Perry Friedlander (Nov 5, 2010)</li><li>Kevin Tang (Nov 5, 2010)</li><li>Gabrielle Kavounas (Nov 4, 2010)</li><li>Zahra Ismail (Nov 4, 2010)</li><li>Hunter Connell (Nov 3, 2010)</li><li>Lenci Tropila (Nov 2, 2010)</li><li>Sara Lynn Dahlia (Nov 1, 2010)</li><li>Matt Fisher (Nov 1, 2010)</li><li>Jen Keating (Oct 31, 2010)</li><li>Grant Hartwig (Oct 31, 2010)</li><li>Maya Harris (Oct 27, 2010)</li><li>Todd Kelly (Oct 26, 2010)</li><li>David Weiland (Oct 24, 2010)</li><li>Zazou Hoffman (Oct 24, 2010)</li><li>Robae Kronstedt (Oct 19, 2010)</li><li>Paxton John O'Brien (Oct 18, 2010)</li><li>Hannah Skolnick (Oct 17, 2010)</li><li>Jason Miller (Oct 15, 2010)</li><li>Dylan Blanks (Oct 14, 2010)</li><li>Julianne Marshall (Oct 14, 2010)</li><li>Nikki Kay (Oct 13, 2010)</li><li>Caity Campos (Oct 13, 2010)</li><li>Mitch Krause (Oct 13, 2010)</li><li>Cole Guerin (Oct 13, 2010)</li><li>Rickey Lee (Oct 13, 2010)</li><li>Benjamin Schmidt (Oct 12, 2010)</li><li>Ebonie Griffin (Oct 10, 2010)</li><li>Joseph Holmes (Oct 10, 2010)</li><li>Chris Tarello (Oct 10, 2010)</li><li>Canon Call (Oct 10, 2010)</li><li>Jennifer Mehrens (Oct 8, 2010)</li><li>Marion Patricio (Oct 8, 2010)</li><li>Nader Moini (Oct 8, 2010)</li><li>Jillian Ventura (Oct 8, 2010)</li><li>Aly Perlman-Hensen (Oct 7, 2010)</li><li>Cathi Cohen (Oct 7, 2010)</li><li>Tisa Barrios Wilson (Oct 7, 2010)</li><li>Nate Wendorff (Oct 7, 2010)</li><li>Melissa Pittson-Roberts (Oct 6, 2010)</li><li>Alisa Marie (Oct 5, 2010)</li><li>Haley Horton (Oct 5, 2010)</li><li>Becca Signer (Oct 5, 2010)</li><li>Alyssa Lincoln-Logs (Oct 4, 2010)</li><li>Emily Resnick (Oct 4, 2010)</li><li>Justina Coelho (Oct 3, 2010)</li><li>KristiAnna Collura (Oct 3, 2010)</li><li>Jessica Schwartz (Oct 2, 2010)</li><li>Chanelle Ashley (Sep 30, 2010)</li><li>Emily Parkin (Sep 28, 2010)</li><li>Miri Gold (Sep 26, 2010)</li><li>Amanda Marie (Sep 26, 2010)</li><li>Allyson Moeller (Sep 26, 2010)</li><li>Tommy Lee (Sep 22, 2010)</li><li>Angelina DiGiovanni (Sep 20, 2010)</li><li>Kola Awe (Sep 19, 2010)</li><li>Dan Ardis (Sep 13, 2010)</li><li>Madison Leffler (Sep 12, 2010)</li><li>Fred Adams (Sep 10, 2010)</li><li>Megan Emily (Sep 8, 2010)</li><li>Antonia Pearson (Sep 5, 2010)</li><li>Rich Headley (Aug 28, 2010)</li><li>Lexi Slater (Aug 24, 2010)</li><li>Jess Hatcher (Aug 22, 2010)</li><li>Lauren Hunter (Aug 22, 2010)</li><li>Zach Irunfast White (Aug 17, 2010)</li><li>Kelsey Luckie (Aug 15, 2010)</li><li>Tyler Worrell (Aug 14, 2010)</li><li>Dallas Jansen (Aug 14, 2010)</li><li>Josh Montanez (Aug 12, 2010)</li><li>Ashlynn Jones (Aug 10, 2010)</li><li>Elizabeth Bonder (Aug 9, 2010)</li><li>Brittany Brooks (Aug 8, 2010)</li><li>Cara Schmidt (Aug 6, 2010)</li><li>Jarred Gallegos (Aug 3, 2010)</li><li>Jesi Pruitt (Jul 29, 2010)</li><li>Beau Sulser (Jul 23, 2010)</li><li>Brandon Hetzler II (Jul 19, 2010)</li><li>Josh Lomeli (Jul 10, 2010)</li><li>Matt Plummer (Jul 5, 2010)</li><li>Allison Franco (Jul 3, 2010)</li><li>Logan Taylor Peterson (Jul 2, 2010)</li><li>Quintin Wright (Jul 2, 2010)</li><li>Ryan Cameron (Jun 30, 2010)</li><li>Lindsay Jackson (Jun 23, 2010)</li><li>Jacob Koffel (Jun 22, 2010)</li><li>Anthony Biegel (Jun 21, 2010)</li><li>Alex Ashley (Jun 17, 2010)</li><li>Caitlin Joy Munoz (Jun 10, 2010)</li><li>Ryan Torp (Jun 7, 2010)</li><li>Derek Klena (Jun 7, 2010)</li><li>PK McDonald (Jun 6, 2010)</li><li>Alex Bennett (Jun 6, 2010)</li><li>Daniel Knowland (Jun 5, 2010)</li><li>Abdu Farhat (Jun 5, 2010)</li><li>Laura Del Beccaro (May 30, 2010)</li><li>Will Minteer (May 30, 2010)</li><li>Alexia Kalogeropulou (May 30, 2010)</li><li>Will Cliff (May 29, 2010)</li><li>Kelsey Kado (May 29, 2010)</li><li>Phil DePond (May 29, 2010)</li><li>Kevin Deggelman (May 23, 2010)</li><li>Mary Dyer (May 23, 2010)</li><li>Trevor Wilkinson (May 23, 2010)</li><li>Kaitlyn Hybl (May 20, 2010)</li><li>Nick Anderson (May 20, 2010)</li><li>Jim Rayfed (May 17, 2010)</li><li>Miriam Jocelyn Díaz (May 17, 2010)</li><li>Collin Algarin (May 17, 2010)</li><li>Adam Diehl (May 15, 2010)</li><li>Joseph Wier (May 14, 2010)</li><li>Jimmy Davoren (May 14, 2010)</li><li>Sunjin David Kim (May 12, 2010)</li><li>Brandon Watkins (May 11, 2010)</li><li>Kelsey Muir (May 11, 2010)</li><li>April Eaton (May 11, 2010)</li><li>Dhruv Desai (May 10, 2010)</li><li>Kelsey McKown (May 10, 2010)</li><li>Joseph Maris (May 9, 2010)</li><li>Allie Koenecke (May 8, 2010)</li><li>Danya Abughalya (May 7, 2010)</li><li>Caroline Garfink (May 7, 2010)</li><li>Toku Hankins (May 7, 2010)</li><li>Victoria Cho (May 7, 2010)</li><li>Beau Van De Walker (May 5, 2010)</li><li>Gabrielle Gordon (May 4, 2010)</li><li>Alec Hunsburgesa (May 4, 2010)</li><li>Derek Darkwing (May 3, 2010)</li><li>Frank Xavier (May 3, 2010)</li><li>Mike Rafferty (May 3, 2010)</li><li>Trent Hubbard-Yeilding (May 3, 2010)</li><li>Connor Delman (May 3, 2010)</li><li>Ari Mazer (May 3, 2010)</li><li>Connor Sletten (May 3, 2010)</li><li>Michael Donahoe (May 2, 2010)</li><li>David Huizar (May 2, 2010)</li><li>Justin North (May 2, 2010)</li><li>Matt Ho (May 2, 2010)</li><li>Brigitte Eder (Apr 30, 2010)</li><li>Leanne Iacovetta Poirier (Apr 29, 2010)</li><li>Courtney Michele (Apr 29, 2010)</li><li>Bret Johnson (Apr 29, 2010)</li><li>Julia Cashen (Apr 28, 2010)</li><li>Charlotte Etesse (Apr 28, 2010)</li><li>Olivia Marik-Reis (Apr 28, 2010)</li><li>Danny Cotter (Apr 27, 2010)</li><li>Ky Bigzz (Apr 27, 2010)</li><li>Michaela Deurloo (Apr 26, 2010)</li><li>Aubrey Thurman (Apr 26, 2010)</li><li>Laurel Flagg (Apr 26, 2010)</li><li>Taylor Emerson (Apr 26, 2010)</li><li>Alex Levy (Apr 26, 2010)</li><li>Ashley McClanahan (Apr 25, 2010)</li><li>Mark Sieglock (Apr 25, 2010)</li><li>Rob Simmons (Apr 25, 2010)</li><li>Nick Pegan (Apr 25, 2010)</li><li>Caylynn Simonson (Apr 25, 2010)</li><li>Matt Murray (Apr 25, 2010)</li><li>Chase Lyall (Apr 25, 2010)</li><li>Casper Yen (Apr 25, 2010)</li><li>Scott Shaffer (Apr 24, 2010)</li><li>Andrea Diton (Apr 24, 2010)</li><li>Kevin Tran (Apr 24, 2010)</li><li>Mary Caroline Pruitt (Apr 22, 2010)</li><li>Dorey Poder (Apr 22, 2010)</li><li>Sam Herskovitz (Apr 22, 2010)</li><li>Lecksee En (Apr 22, 2010)</li><li>Danny Greene (Apr 22, 2010)</li><li>Stephanie Hanson (Apr 21, 2010)</li><li>Derek Spitters (Apr 21, 2010)</li><li>Nicole Jazzy (Apr 20, 2010)</li><li>Lucas Brand (Apr 20, 2010)</li><li>Jenni Olivero (Apr 20, 2010)</li><li>Kendall Rogers (Apr 19, 2010)</li><li>Scott Emery (Apr 19, 2010)</li><li>Stephen Spieker (Apr 18, 2010)</li><li>Justin Kim (Apr 18, 2010)</li><li>Matt Taube (Apr 18, 2010)</li><li>Chad Musselman (Apr 18, 2010)</li><li>Fadi Shaya (Apr 17, 2010)</li><li>Michael Do (Apr 17, 2010)</li><li>Taylor Glieden (Apr 17, 2010)</li><li>Erik Gordon (Apr 17, 2010)</li><li>Michael LaRosa (Apr 17, 2010)</li><li>Chris Gabriel (Apr 17, 2010)</li><li>Adriana Rosas (Apr 16, 2010)</li><li>Karina Demi (Apr 16, 2010)</li><li>Ashley Langill (Apr 15, 2010)</li><li>Shayne Siegman (Apr 15, 2010)</li><li>Daniel Niknam (Apr 14, 2010)</li><li>Nancy S McIntosh (Apr 13, 2010)</li><li>Mike Wright (Apr 13, 2010)</li><li>Brett Harwin (Apr 13, 2010)</li><li>Letty Medina (Apr 13, 2010)</li><li>Ryan Chapin (Apr 12, 2010)</li><li>Chris Migdal (Apr 12, 2010)</li><li>KC  Mead (Apr 11, 2010)</li><li>Myan Pham (Apr 10, 2010)</li><li>Rob Headley (Apr 10, 2010)</li><li>Cameron Hajialiakbar (Apr 9, 2010)</li><li>Brett Bova (Apr 9, 2010)</li><li>Jeff Knecht (Apr 9, 2010)</li><li>Alliee McBeal (Apr 9, 2010)</li><li>Calvin Kieu (Apr 9, 2010)</li><li>Andrew Cedar (Apr 9, 2010)</li><li>Jonny Schirer (Apr 9, 2010)</li><li>Mason Butts (Apr 9, 2010)</li><li>Christian Pedersen (Apr 9, 2010)</li><li>Patrick Slater (Apr 9, 2010)</li><li>Michael Beck (Apr 9, 2010)</li><li>Nick Molina (Apr 9, 2010)</li><li>Eric Hoehn (Apr 9, 2010)</li><li>Cameron Virjee (Apr 7, 2010)</li><li>Nick Terry (Apr 5, 2010)</li><li>Kassi Roberts (Apr 5, 2010)</li><li>Megan Mahoney (Apr 5, 2010)</li><li>Brett McCollum (Apr 4, 2010)</li><li>Darren Leggett (Apr 4, 2010)</li><li>Stephen Foster (Apr 3, 2010)</li><li>Stacey Pun (Apr 3, 2010)</li><li>Torianna Knettle (Mar 31, 2010)</li><li>Samir Mody (Mar 31, 2010)</li><li>Katie White (Mar 22, 2010)</li><li>Antonia Bee (Mar 17, 2010)</li><li>Evan Escamilla (Mar 16, 2010)</li><li>Michael Deya Hui (Mar 16, 2010)</li><li>Mico Angelo (Mar 15, 2010)</li><li>Christian Johnson (Mar 13, 2010)</li><li>Lauren Rosen (Mar 13, 2010)</li><li>Jacob Rudolph (Mar 10, 2010)</li><li>Monica Santos (Mar 9, 2010)</li><li>Michael Bernas (Mar 9, 2010)</li><li>Evan Laveman (Mar 9, 2010)</li><li>Sean O'Brien (Mar 7, 2010)</li><li>Liza Marie (Mar 7, 2010)</li><li>Kini Weaver (Mar 5, 2010)</li><li>Sydney Sheree (Mar 3, 2010)</li><li>Maestra Lepez (Mar 3, 2010)</li><li>Angel Moreno (Mar 3, 2010)</li><li>Teresa Jue (Mar 3, 2010)</li><li>Amanda ZinZin (Mar 2, 2010)</li><li>Nick Pompeo (Mar 1, 2010)</li><li>Abby Imboden (Feb 28, 2010)</li><li>Mike Jones (Feb 28, 2010)</li><li>Taylor Lynne Narde (Feb 28, 2010)</li><li>Leah Francesca (Feb 28, 2010)</li><li>Katie Hoffman (Feb 25, 2010)</li><li>Michael Rosenthal (Feb 25, 2010)</li><li>Shelby Jones (Feb 23, 2010)</li><li>Sarah Lee (Feb 22, 2010)</li><li>Tiffany Chow (Feb 22, 2010)</li><li>Mikey Suiter (Feb 22, 2010)</li><li>Molly Doherty (Feb 21, 2010)</li><li>Camille Surujbhan (Feb 21, 2010)</li><li>Laurel Brewer (Feb 21, 2010)</li><li>Alex Sookikian (Feb 21, 2010)</li><li>Ryan McNagny (Feb 21, 2010)</li><li>Tyler Creswell (Feb 20, 2010)</li><li>Rory Platt (Feb 20, 2010)</li><li>Kylie Wilson (Feb 19, 2010)</li><li>Steven Daniel Emerson (Feb 19, 2010)</li><li>Hannah Bourgeois (Feb 18, 2010)</li><li>Derion McGriff (Feb 17, 2010)</li><li>Justin Poplin (Feb 17, 2010)</li><li>Maiah Zarrabi (Feb 16, 2010)</li><li>Ashley Cartwright (Feb 15, 2010)</li><li>Angie Tseng (Feb 14, 2010)</li><li>Jacqueline Rodriguez (Feb 12, 2010)</li><li>David Pk (Feb 12, 2010)</li><li>Allison Long (Feb 10, 2010)</li><li>Taylor Stewart (Feb 9, 2010)</li><li>Taylor Fischer (Feb 9, 2010)</li><li>Theresa Duey (Feb 9, 2010)</li><li>Mark Suarez (Feb 8, 2010)</li><li>Morgan Marie Gross (Feb 5, 2010)</li><li>Kristin Upshaw (Feb 5, 2010)</li><li>Alex Pollock (Feb 3, 2010)</li><li>Alison Hollie (Feb 3, 2010)</li><li>Stephanie Liz Sia (Feb 3, 2010)</li><li>Jaya Reddy (Feb 3, 2010)</li><li>Joseph Alvarado (Feb 3, 2010)</li><li>Liz Clapp (Feb 3, 2010)</li><li>Chris Durham (Feb 2, 2010)</li><li>Andrew McCarthy (Jan 30, 2010)</li><li>Lilienne Cullen (Jan 30, 2010)</li><li>Shannon Hickman (Jan 28, 2010)</li><li>Joan McIntosh (Jan 28, 2010)</li><li>Eddie Ly (Jan 27, 2010)</li><li>Ian McRae (Jan 26, 2010)</li><li>Natasha Sellens (Jan 25, 2010)</li><li>Mariah Mix (Jan 24, 2010)</li><li>Mari Klein (Jan 23, 2010)</li><li>Kassandra Marie (Jan 22, 2010)</li><li>Erika Woosley (Jan 21, 2010)</li><li>Lindsey Sparling (Jan 20, 2010)</li><li>Josh Leiber (Jan 18, 2010)</li><li>Steven Chan (Jan 16, 2010)</li><li>Megan Brown (Jan 14, 2010)</li><li>Erin Noel Joseph (Jan 9, 2010)</li><li>Nicole Andonian (Jan 9, 2010)</li><li>Dustin Martin (Jan 9, 2010)</li><li>Bayan Salehi (Jan 8, 2010)</li><li>Tory Roberts (Jan 8, 2010)</li><li>Aly Homen (Jan 8, 2010)</li><li>Tanner Jorgenson (Jan 7, 2010)</li><li>Rachelle Mason (Jan 2, 2010)</li><li>Stacia O'Shea (Dec 30, 2009)</li><li>Taelyn Nichols (Dec 30, 2009)</li><li>Tessa Balcom (Dec 28, 2009)</li><li>Kimiko Hennessy (Dec 27, 2009)</li><li>Kaitlyn Fong (Dec 22, 2009)</li><li>Jeff Rizzo (Dec 20, 2009)</li><li>Kayla Lawler (Dec 19, 2009)</li><li>Margo Aguayo (Dec 18, 2009)</li><li>Shannon Nguyen (Dec 15, 2009)</li><li>Alexa Brielle Jones (Dec 15, 2009)</li><li>Amy Berman (Dec 12, 2009)</li><li>Kimberly Swain (Dec 10, 2009)</li><li>Russell Tres Bogda (Dec 10, 2009)</li><li>Shantel Mitchell (Dec 7, 2009)</li><li>Alexa Paredes (Dec 7, 2009)</li><li>Tyler Anne-marie (Dec 7, 2009)</li><li>Ashlynn Jones (Dec 6, 2009)</li><li>Kathryn Heal (Dec 5, 2009)</li><li>Stuart Stielau (Dec 5, 2009)</li><li>Christian Duran (Dec 5, 2009)</li><li>Jessica Russo (Dec 5, 2009)</li><li>Jesse Schmidt (Dec 4, 2009)</li><li>Frances Gutierrez (Nov 29, 2009)</li><li>Kellsie Domnitz (Nov 27, 2009)</li><li>Nicole ES (Nov 26, 2009)</li><li>Maria Branco (Nov 25, 2009)</li><li>Travis Gomez (Nov 23, 2009)</li><li>Shel Nuth (Nov 21, 2009)</li><li>Chelsea Brooke (Nov 21, 2009)</li><li>Brittnee Clary (Nov 19, 2009)</li><li>Courtney Fick (Nov 19, 2009)</li><li>Leesa Allsbrook (Nov 19, 2009)</li><li>Emilie Rochelle (Nov 17, 2009)</li><li>Seth McIntosh (Nov 17, 2009)</li><li>Sebastian Brian Moss (Nov 16, 2009)</li><li>Sami Rose (Nov 15, 2009)</li><li>Talia Nichole (Nov 15, 2009)</li><li>Whitney Renee (Nov 13, 2009)</li><li>Kassidy Vaughan (Nov 13, 2009)</li><li>Whitney Elle (Nov 12, 2009)</li><li>Kate Cordova (Nov 11, 2009)</li><li>Cierra Cappadocia (Nov 11, 2009)</li><li>Tommy Perfect (Nov 10, 2009)</li><li>Walker Poortinga (Nov 8, 2009)</li><li>Dani Skeen (Nov 7, 2009)</li><li>Johnny Lafata (Nov 6, 2009)</li><li>Robert Laws (Nov 6, 2009)</li><li>Aza Steel (Oct 30, 2009)</li><li>Monica Esparza (Oct 27, 2009)</li><li>Trevor Kerchner (Oct 26, 2009)</li><li>Caroline Bargo (Oct 26, 2009)</li><li>Michael Starr (Oct 24, 2009)</li><li>Margs Nett (Oct 24, 2009)</li><li>William Sterling (Oct 23, 2009)</li><li>Ian Ferguson (Oct 23, 2009)</li><li>Rico Jones (Oct 23, 2009)</li><li>Ruth Anna Mühlig (Oct 22, 2009)</li><li>Gabriel Torres Castro (Oct 21, 2009)</li><li>Jake Nash (Oct 21, 2009)</li><li>Alice Hsu (Oct 21, 2009)</li><li>Justice Flores (Oct 20, 2009)</li><li>Adam Tilford (Oct 18, 2009)</li><li>Nick Scottolini (Oct 18, 2009)</li><li>Theodore Kee (Oct 18, 2009)</li><li>Marissa Martin (Oct 18, 2009)</li><li>David A. Lopez (Oct 17, 2009)</li><li>Keri Downs (Oct 16, 2009)</li><li>Cameron Baghai (Oct 14, 2009)</li><li>Mack Romano (Oct 14, 2009)</li><li>Alvin Hsia (Oct 14, 2009)</li><li>Shane Damon (Oct 14, 2009)</li><li>Karley Crandall (Oct 13, 2009)</li><li>Kathryn Cardoza (Oct 11, 2009)</li><li>Kyle Nelson (Oct 11, 2009)</li><li>Kyla Noelle (Oct 11, 2009)</li><li>Christian Anthony (Oct 11, 2009)</li><li>Becca Carpey Amar (Oct 11, 2009)</li><li>Binta Mustapha (Oct 5, 2009)</li><li>Brett Bowers (Oct 5, 2009)</li><li>Nathan McCurley (Oct 4, 2009)</li><li>Taylor Dominique (Oct 3, 2009)</li><li>Jesenia Vega (Oct 3, 2009)</li><li>Rosaura Ibarra (Oct 2, 2009)</li><li>Jessie Guerrero (Oct 2, 2009)</li><li>Cindy Yan (Oct 1, 2009)</li><li>Johnny Langdon (Sep 30, 2009)</li><li>Jake Wolf (Sep 30, 2009)</li><li>Darlene Nhi Trần (Sep 30, 2009)</li><li>Ryan Mulligan (Sep 29, 2009)</li><li>Sarah Ulanicki (Sep 29, 2009)</li><li>Kirsten Blessum (Sep 28, 2009)</li><li>Ames Ay (Sep 28, 2009)</li><li>Claire LM (Sep 27, 2009)</li><li>Libby Bradley (Sep 27, 2009)</li><li>Evangeline Ignacio (Sep 26, 2009)</li><li>Allen Wu (Sep 26, 2009)</li><li>Zack Adamos (Sep 26, 2009)</li><li>Alex Browne (Sep 26, 2009)</li><li>Monique Ho (Sep 26, 2009)</li><li>Mike McBirnie (Sep 26, 2009)</li><li>Tommy Changaris (Sep 26, 2009)</li><li>Darron Miya (Sep 25, 2009)</li><li>Michael Herbert Jew (Sep 25, 2009)</li><li>Mary Alice (Sep 24, 2009)</li><li>Will Finley (Sep 24, 2009)</li><li>Avi Dorfman (Sep 24, 2009)</li><li>Kimberly Young (Sep 24, 2009)</li><li>Victor Xie (Sep 24, 2009)</li><li>Matt Blase (Sep 24, 2009)</li><li>Ashley Nicole Bell (Sep 24, 2009)</li><li>Kelly Johnson (Sep 24, 2009)</li><li>Chengappa Kodira (Sep 24, 2009)</li><li>Suzanne Dakkak (Sep 24, 2009)</li><li>Carmine J. Smeraldo (Sep 24, 2009)</li><li>Sofie Zarrabi (Sep 24, 2009)</li><li>Tanya Kim (Sep 23, 2009)</li><li>Jaideep Dudani (Sep 21, 2009)</li><li>Aaron Testa (Sep 21, 2009)</li><li>Keita Nagashima (Sep 21, 2009)</li><li>Sachin Nediyanchath (Sep 21, 2009)</li><li>Leslie Kearsley (Sep 21, 2009)</li><li>Michelle Kim (Sep 21, 2009)</li><li>Thomas Atkins (Sep 21, 2009)</li><li>Amy Morley (Sep 18, 2009)</li><li>Sal Mohizzo (Sep 18, 2009)</li><li>Carl Betzler (Sep 18, 2009)</li><li>Kaitlin O'Rourke (Sep 17, 2009)</li><li>Vince Quinn (Sep 17, 2009)</li><li>Ron Ng (Sep 17, 2009)</li><li>Alex Ro (Sep 17, 2009)</li><li>Emily Haithcoat (Sep 17, 2009)</li><li>Jesse Cappadocia (Sep 17, 2009)</li><li>Heather Campbell (Sep 17, 2009)</li><li>カル ジョン (Sep 17, 2009)</li><li>Joey Bruin (Sep 17, 2009)</li><li>Jake Emery (Sep 16, 2009)</li><li>David Hou (Sep 16, 2009)</li><li>Elizabeth Ashley (Sep 16, 2009)</li><li>Wolfgang Menk (Sep 13, 2009)</li><li>Christie Flores (Sep 13, 2009)</li><li>Mikey Leahy (Sep 12, 2009)</li><li>Rachel James (Sep 11, 2009)</li><li>Ryan Stone (Sep 11, 2009)</li><li>Marcus Russell (Sep 11, 2009)</li><li>Cody Lambert (Sep 11, 2009)</li><li>Breanna Laan (Sep 10, 2009)</li><li>Kyle Kunkel (Sep 9, 2009)</li><li>Michiko Brieanna Hennessy (Sep 8, 2009)</li><li>Mariah Dohner (Sep 8, 2009)</li><li>Nick Ashton (Sep 8, 2009)</li><li>Jennifer Coccimiglio (Sep 8, 2009)</li><li>Lane Tobiason (Sep 8, 2009)</li><li>Jordan Robison (Sep 8, 2009)</li><li>Nicole Meador (Sep 6, 2009)</li><li>Cameron Martin (Sep 5, 2009)</li><li>Dean Faddis (Sep 4, 2009)</li><li>Kaylee Mae (Sep 3, 2009)</li><li>Harryson Franz (Sep 1, 2009)</li><li>Chelsea Day (Aug 31, 2009)</li><li>Johnny Vallejo (Aug 30, 2009)</li><li>Matt Laws (Aug 30, 2009)</li><li>Nathan Andras Kersey Wilson (Aug 29, 2009)</li><li>Nicole Caliguri (Aug 29, 2009)</li><li>Tiffany Feagin (Aug 29, 2009)</li><li>Cabrina Anne (Aug 29, 2009)</li><li>Alyssa Curran (Aug 29, 2009)</li><li>Natalie Pukasemvarangkoon (Aug 29, 2009)</li><li>Zaid Qureshi (Aug 28, 2009)</li><li>Christina Marie (Aug 28, 2009)</li><li>John Randol (Aug 28, 2009)</li><li>Lee Tilford (Aug 26, 2009)</li><li>Lee Ppeohcs (Aug 26, 2009)</li><li>Carter Hollenbach (Aug 25, 2009)</li><li>Melissa Martinez (Aug 25, 2009)</li><li>Shannon Garcia (Aug 20, 2009)</li><li>Rio Rodrigues (Aug 17, 2009)</li><li>Shane Michael Lagace (Aug 17, 2009)</li><li>Stephanie DeStefano (Aug 17, 2009)</li><li>Kaitlyn Ammirato (Aug 16, 2009)</li><li>Brandon Winters (Aug 16, 2009)</li><li>Kevin Ryan Bishop (Aug 16, 2009)</li><li>Brittany Skinner (Aug 15, 2009)</li><li>Jeremiah Jordan (Aug 14, 2009)</li><li>Michael Studley (Aug 14, 2009)</li><li>Kate Wood (Aug 14, 2009)</li><li>Brylynn Garcia (Aug 14, 2009)</li><li>Ashley Kaliskis (Aug 14, 2009)</li><li>Faith Mabry (Aug 14, 2009)</li><li>Christian Perez (Aug 12, 2009)</li><li>Alex Mclaughlin (Aug 11, 2009)</li><li>Tanner Hix (Aug 10, 2009)</li><li>Madison Gray (Aug 8, 2009)</li><li>Kay Lee (Aug 8, 2009)</li><li>Erik Grover (Aug 8, 2009)</li><li>Samuel Ray Lopez (Aug 8, 2009)</li><li>Chelsea Maurer (Aug 8, 2009)</li><li>Megan Deguisne (Aug 8, 2009)</li><li>Thomas W Cook IV (Aug 8, 2009)</li><li>Allie Catton (Aug 1, 2009)</li><li>Josh Benke (Aug 1, 2009)</li><li>Johnny Sorensen (Jul 27, 2009)</li><li>Makenzie Taylor (Jul 27, 2009)</li><li>Tori Nowakowski (Jul 27, 2009)</li><li>Christian Wagner (Jul 27, 2009)</li><li>Jared Godes (Jul 21, 2009)</li><li>Gabe Erivez (Jul 20, 2009)</li><li>Tim Montague (Jul 16, 2009)</li><li>Matt Mazzola (Jul 14, 2009)</li><li>Luke Papps (Jul 14, 2009)</li><li>Noelle Caliguri (Jul 14, 2009)</li><li>Jenny Berroth (Jul 7, 2009)</li><li>Liz Marie (Jul 7, 2009)</li><li>Jackson Willeford (Jul 7, 2009)</li><li>Elena Garcia (Jul 7, 2009)</li><li>Tori Gan (Jun 30, 2009)</li><li>Rach Lo (Jun 29, 2009)</li><li>Mountain Drew (Jun 28, 2009)</li><li>Emily Weaver (Jun 27, 2009)</li><li>Richie Alexander (Jun 27, 2009)</li><li>Diana Zimmerman (Jun 27, 2009)</li><li>Merissa Allen (Jun 17, 2009)</li><li>Greg Gallagher (Jun 17, 2009)</li><li>Nicki DeStefano (Jun 17, 2009)</li><li>Raquel Mireles (Jun 17, 2009)</li><li>Morgan Gunderson (Jun 17, 2009)</li><li>Ciara Swier (Jun 17, 2009)</li><li>London Fiehler (Jun 7, 2009)</li><li>Zach Windes (Jun 7, 2009)</li><li>Sandi Kurland (Jun 7, 2009)</li><li>Alyssa Stoody (Jun 7, 2009)</li><li>Paige Conroy (May 23, 2009)</li><li>Zachary Nored (May 21, 2009)</li><li>Dylan Blankenbaker (May 21, 2009)</li><li>Felisha Stead (May 21, 2009)</li><li>Brittany Balcom (May 21, 2009)</li><li>Kati Hachfeld (May 11, 2009)</li><li>Niklas Skinner (May 11, 2009)</li><li>Daniel Rojo (May 11, 2009)</li><li>Ally Lopez (May 11, 2009)</li><li>Caitlin Meng (May 11, 2009)</li><li>Blake Drake (May 10, 2009)</li><li>Anthony Snellings (May 4, 2009)</li><li>Dominique Schorn (May 3, 2009)</li><li>Haley Romero (May 3, 2009)</li><li>Jacqueline Roteck (May 3, 2009)</li><li>Tim Georgeson (May 3, 2009)</li><li>Amanda Lee Carasiti (Apr 19, 2009)</li><li>Miranda Rose (Apr 19, 2009)</li><li>Marjorie Leunen (Apr 13, 2009)</li><li>Megan Escalona (Apr 13, 2009)</li><li>Zachary McCreary (Apr 11, 2009)</li><li>Travis Harski (Apr 11, 2009)</li><li>Nicole Lavander (Apr 6, 2009)</li><li>Stephen Hillary Spieker (Mar 30, 2009)</li><li>Casey McNally (Mar 29, 2009)</li><li>Ashley Daum (Mar 29, 2009)</li><li>Feras Tartir (Mar 27, 2009)</li><li>Alex Sparks (Mar 27, 2009)</li><li>Nicholas Joseph Jaquez (Mar 24, 2009)</li><li>Erich Fedorka (Mar 22, 2009)</li><li>Adam Watson (Mar 22, 2009)</li><li>Megan Corbett (Mar 22, 2009)</li><li>Jacocomo Wolf (Mar 22, 2009)</li><li>Rachael Lindquist (Mar 16, 2009)</li><li>Angie Canady (Mar 16, 2009)</li><li>Jason Snodgrass (Mar 16, 2009)</li><li>Alexander Matthews (Mar 16, 2009)</li><li>Julia Mary Kosut (Feb 26, 2009)</li><li>Nicole Wynn (Feb 26, 2009)</li><li>Meredith Prinz (Feb 26, 2009)</li><li>Chandler Carpenter (Feb 26, 2009)</li><li>David Anthony Shanahan Jr (Feb 26, 2009)</li><li>Debbie Stuke Deseno (Feb 26, 2009)</li><li>Cameron Kolk (Feb 26, 2009)</li><li>Tyler Tkachuk (Feb 26, 2009)</li><li>Caitlin Anne (Jan 23, 2009)</li><li>Chris Tiki (Jan 23, 2009)</li><li>Tiffany Sulser (Jan 23, 2009)</li><li>Lainey Christine (Jan 23, 2009)</li><li>Anthony Bishop (Jan 23, 2009)</li><li>Alex Gaona (Jan 23, 2009)</li><li>Marshall Martinez (Jan 9, 2009)</li><li>Schuyler Madsen (Jan 7, 2009)</li><li>Jonathan Pasternack (Jan 5, 2009)</li><li>Joshua Corson (Dec 23, 2008)</li><li>Sarah Mason (Dec 23, 2008)</li><li>Makenna Starmack (Dec 23, 2008)</li><li>Montanez Zephyr Stina (Dec 23, 2008)</li><li>Darcy HouseLick (Dec 20, 2008)</li><li>Saralynn Emery (Dec 19, 2008)</li><li>Lindsey Marie Spieker (Dec 18, 2008)</li><li>Jacqueline Cervantes (Dec 18, 2008)</li><li>Catarina Thompson (Dec 17, 2008)</li><li>Breanna Reeves (Dec 17, 2008)</li><li>Nick La Fontaine (Dec 17, 2008)</li><li>Sean Whelehon (Dec 7, 2008)</li><li>Edna Avelar (Dec 7, 2008)</li><li>Julia Ryan (Dec 7, 2008)</li><li>Cara Flores (Nov 27, 2008)</li><li>Alex Bautista (Nov 27, 2008)</li><li>Bryson Garcia (Nov 27, 2008)</li><li>Lauren Ray (Nov 24, 2008)</li><li>Brian Allen (Nov 24, 2008)</li><li>Kaylee Nicole Gridley (Nov 24, 2008)</li><li>Boone Mcintosh (Nov 24, 2008)</li><li>Jordan Deseno (Nov 24, 2008)</li><li>Robin Allen (Nov 24, 2008)</li><li>Ydna Ppeohcs (Oct 29, 2008)</li><li>David Addison Langill (Oct 29, 2008)</li><li>Alyssa Howland (Oct 26, 2008)</li><li>Carley Coles (Oct 25, 2008)</li><li>Kurt Mikal Torsak (Oct 9, 2008)</li><li>Jennifer Sirchuk (Oct 9, 2008)</li><li>Ashley Shields (Oct 6, 2008)</li><li>Candon Canady (Oct 5, 2008)</li><li>Emily Trujillo (Oct 5, 2008)</li><li>Matt Puckett (Oct 5, 2008)</li><li>Miranda Osio (Sep 30, 2008)</li><li>Bianca Va (Sep 29, 2008)</li><li>Kari Gonter (Sep 29, 2008)</li><li>Eric Fischer (Sep 24, 2008)</li><li>Arisa Sanderson (Sep 24, 2008)</li><li>Josh Haynes (Sep 18, 2008)</li><li>Chris Nelson (Sep 18, 2008)</li><li>Paul Wentura (Sep 15, 2008)</li><li>Cameron Cook (Sep 14, 2008)</li><li>Kassie Zullo (Sep 14, 2008)</li><li>Corie Anderson (Sep 13, 2008)</li><li>Ashley Duck (Sep 9, 2008)</li><li>Michelle Christensen (Sep 9, 2008)</li><li>Heather Hartwell (Sep 3, 2008)</li><li>Gregory Francis Harrington (Sep 3, 2008)</li><li>Taylor Schwuchow (Sep 2, 2008)</li><li>Trevor Adelman (Sep 2, 2008)</li><li>Dakota Beauty Swanson (Sep 1, 2008)</li><li>Kayana Quick (Sep 1, 2008)</li><li>Candice Flynn (Aug 28, 2008)</li><li>Patrick Vaughan (Aug 28, 2008)</li><li>Allissa Leezy (Aug 28, 2008)</li><li>Lindsey Young (Aug 28, 2008)</li><li>Emily Flecker (Aug 28, 2008)</li><li>Ian Bablewski (Aug 28, 2008)</li><li>Erika Marin (Aug 28, 2008)</li><li>Brodie Kaster (Aug 18, 2008)</li><li>Marti Childress (Aug 18, 2008)</li><li>Jessica Rene (Aug 18, 2008)</li><li>Katie Gonzalez (Aug 18, 2008)</li><li>Jesse Sanchez (Aug 18, 2008)</li><li>Paul Reynolds (Aug 18, 2008)</li><li>Linze Cole (Aug 18, 2008)</li><li>Adena Linné (Aug 13, 2008)</li><li>Michaelene Hoge (Aug 12, 2008)</li><li>Nicole Keyes (Aug 12, 2008)</li><li>Erik Ernst (Aug 12, 2008)</li><li>Sean Leahy (Aug 12, 2008)</li><li>Chris White (Aug 12, 2008)</li><li>Sara Bell (Aug 12, 2008)</li><li>Jenni Macc (Aug 12, 2008)</li><li>Derek McGrath (Aug 12, 2008)</li><li>Kevin Frelke (Aug 12, 2008)</li><li>Collin Torsak (Aug 12, 2008)</li><li>Jenna Garcia (Jul 15, 2008)</li><li>Stuart Corbett (Jul 15, 2008)</li><li>Kristen Robison (Jul 15, 2008)</li><li>Stefan Fertala (Jul 15, 2008)</li><li>Emily Grace Rajcic (Jul 15, 2008)</li><li>Devan Alatorre (Jul 15, 2008)</li><li>Victoria Brown (Jul 15, 2008)</li><li>Nate Foote (Jul 15, 2008)</li><li>Ian Hunt (Jul 15, 2008)</li><li>Aaron Mahaffey (Jul 15, 2008)</li><li>Sarah Rasor (Jul 15, 2008)</li><li>Kelsey Sadler (Jun 28, 2008)</li><li>Ari Marcus (Jun 19, 2008)</li><li>Benjamin Millen (Jun 19, 2008)</li><li>Evan Brown (Jun 19, 2008)</li><li>Megan Laurel Hinojosa (Jun 19, 2008)</li><li>Cody Engler (Jun 19, 2008)</li><li>Lyndon Scott (Jun 19, 2008)</li><li>Con Koch (Jun 19, 2008)</li><li>Shannon Murphy Perry (May 2, 2008)</li><li>Jarrett Crawford (May 2, 2008)</li><li>Kat Owens (May 2, 2008)</li><li>Ginger Sossaman (May 2, 2008)</li><li>Erin Leonard (May 2, 2008)</li><li>Amy Villanueva (May 2, 2008)</li><li>Aaron Lambert (May 2, 2008)</li><li>Keith Scheib (May 2, 2008)</li><li>Ashley Webb (May 2, 2008)</li><li>Marannee Scottolini (May 2, 2008)</li><li>Monica Garcia (Jan 8, 2008)</li><li>Cole Sulser (Oct 26, 2007)</li><li>Javier Cordova (Oct 26, 2007)</li><li>Alyssa Morlan (Oct 26, 2007)</li><li>Greg Arnold (Oct 26, 2007)</li><li>Matt Schreiber (Oct 26, 2007)</li><li>Carly Clark (Oct 15, 2007)</li><li>Thomas Padilla (Oct 15, 2007)</li><li>Kyle Blackwell (Oct 15, 2007)</li><li>Ryan Franken (Oct 15, 2007)</li><li>Christy Teague (Oct 15, 2007)</li><li>Edgar Cordova (Oct 15, 2007)</li><li>Chelsi Lane (Oct 15, 2007)</li><li>Otillia Kayy (Oct 15, 2007)</li><li>Laura Peterson-Phife (Sep 5, 2007)</li><li>Ryan Swier (Sep 5, 2007)</li><li>Brently Rousset (Sep 5, 2007)</li><li>Ariel Padron (Aug 26, 2007)</li><li>Samantha Van Gorder (Aug 17, 2007)</li><li>Taylor Shinnick (Aug 17, 2007)</li><li>Monique Barrios (Aug 11, 2007)</li><li>Heidi Hartwell (Aug 4, 2007)</li><li>Cassandra Faddis (Jul 30, 2007)</li><li>Cindy Lape (Jul 30, 2007)</li><li>Riley Stille (Jul 27, 2007)</li><li>Karly Hoffman (Jul 27, 2007)</li><li>Tess Burtyk (Jul 27, 2007)</li><li>Nichole Janak (Jul 18, 2007)</li><li>Lynnea Ormiston (Jul 14, 2007)</li><li>Matthew Whitehill (Jul 11, 2007)</li><li>Matt Wilson (Jul 11, 2007)</li><li>Adam Wilder (Jul 11, 2007)</li><li>Claire McInerny (Jul 11, 2007)</li><li>Kevin Guglielmetti (Jul 8, 2007)</li><li>Ashlee Rasmussen (Jul 7, 2007)</li><li>Marcy Fibrow (Jul 6, 2007)</li><li>Kaylee Gridley (Jul 5, 2007)</li><li>Samantha Johnson (Jul 4, 2007)</li><li>Chelsea Moore (Jul 2, 2007)</li><li>Leroy Matthews (Jul 1, 2007)</li><li>Kyle Abarca (Jul 1, 2007)</li><li>Madison O'Neill (Jun 30, 2007)</li><li>Kelsey Natsuhara (Jun 30, 2007)</li><li>Megan McDown Stivers (Jun 30, 2007)</li><li>Kenzie Lopez (Jun 30, 2007)</li><li>Hillary Brooke Asberry (Jun 30, 2007)</li><li>Rebecca Isselin (Jun 30, 2007)</li><li>Caitlin Linster (Jun 30, 2007)</li><li>Merik Mulcahy (Jun 29, 2007)</li><li>Tess Vazquez (Jun 29, 2007)</li><li>Stephanie Garcia (Jun 29, 2007)</li><li>Erandi Ratnayake (Jun 29, 2007)</li><li>Lissette Cervantes (Jun 28, 2007)</li><li>Darius Ngo (Jun 28, 2007)</li><li>Kimberly Martin (Jun 28, 2007)</li><li>Paige Elizabeth (Jun 28, 2007)</li><li>Nikolus Ray (Jun 28, 2007)</li><li>Keri Wilson (Jun 28, 2007)</li><li>JP Cahn (Jun 28, 2007)</li></ul><h2>Sent Friend Requests</h2><ul><li>Joakim Goßmann (Jun 20, 2017)</li><li>Linda McKittrick Gedemer (May 22, 2017)</li><li>David Shanahan (Jun 28, 2009)</li><li>Alex Brisendine (Jun 28, 2007)</li></ul><h2>Received Friend Requests</h2><ul><li>Tony Kurkowski (Feb 12)</li><li>Evan Campos (Dec 31, 2017)</li><li>Ives Memel (Sep 18, 2017)</li><li>Elyssa Stern (Jun 27, 2017)</li><li>Mariama Manneh (May 25, 2017)</li><li>Brea Orluskie (Jan 5, 2017)</li><li>Amber Michelle (Nov 20, 2016)</li><li>Scott Sevin (May 29, 2016)</li><li>Malcolm Mayors (Apr 1, 2016)</li><li>Alejandra Roman (Mar 28, 2016)</li><li>정영민 (Mar 19, 2016)</li><li>Brittany Sullivan (Nov 28, 2015)</li><li>Vicki Simmons (Nov 9, 2015)</li><li>Jarrod Harrison (Oct 2, 2015)</li><li>Alvaro Jaramillo (Sep 2, 2015)</li><li>Mitchell Bendersky (Aug 16, 2015)</li><li>Ameen Seyedroudbari (Aug 10, 2015)</li><li>Judith Freeman (Jul 2, 2015)</li><li>Shelly Senter (May 15, 2015)</li><li>Shane Swartzlander (Mar 26, 2015)</li><li>Hortensia Kazingufu (Mar 14, 2015)</li><li>Morgan Smith (Mar 1, 2015)</li></ul><h2>Declined Friend Requests</h2><ul><li>Elliott (Oct 24, 2017)</li><li>Zhidelyova Valeriya (Jul 1, 2016)</li><li>Jessie Horton (Jun 19, 2016)</li><li>Cassie Finnegan (Apr 2, 2016)</li><li>Nicholas Deseno (Nov 18, 2015)</li><li>Paige Vic (Aug 31, 2015)</li><li>MotswanaAleta Mokgethi (Aug 28, 2015)</li><li>Mario Jauregui (Jul 26, 2015)</li><li>Alex Fritz (Jul 13, 2015)</li><li>Brittnae Beech (Jul 4, 2015)</li><li>Pāõlëêñ Påmäî (May 10, 2015)</li><li>Melani Nissin (May 10, 2015)</li><li>Moussa Gherbi (Apr 19, 2015)</li><li>Kasandra Toll (Mar 29, 2015)</li><li>Ben Colwell (Jan 16, 2015)</li><li>Rio Rodrigues (Jan 16, 2015)</li><li>Olivia Benson (Jan 16, 2015)</li><li>Christina Barrameda (Jan 16, 2015)</li><li>Jarid Kazemier (Jan 16, 2015)</li><li>Raelynn Sullens (Jan 16, 2015)</li><li>Jeanette Stark (Jan 16, 2015)</li><li>Kathy Smyth (Jan 16, 2015)</li><li>Robert Busch (Jan 16, 2015)</li><li>Devin Osborne (Jan 16, 2015)</li><li>Cesar Robles (Jan 16, 2015)</li><li>Thomas Pacheco (Jan 16, 2015)</li><li>Megan Moreno (Jan 16, 2015)</li><li>Sherm Ska (Jan 16, 2015)</li><li>Karina Hale (Jan 16, 2015)</li><li>Adam Oaks Alexander (Jan 16, 2015)</li><li>David Kozakiewicz (Jan 16, 2015)</li><li>Julio Cesar Chavez (Jan 16, 2015)</li><li>Quill Sattar (Jan 16, 2015)</li><li>Courtney Robinson (Jan 16, 2015)</li><li>Ashley Bunch (Jan 16, 2015)</li><li>Jason Winters (Jan 16, 2015)</li><li>Amanda Kahn (Jan 16, 2015)</li><li>Rojas Times (Jan 16, 2015)</li><li>Khadijah Lee (Jan 16, 2015)</li><li>Christian Glotfelty (Jan 16, 2015)</li><li>Tiffany Leigh-Ann (Jan 16, 2015)</li><li>Nicole Cram (Jan 16, 2015)</li><li>Samantha Paulsen (Jan 16, 2015)</li><li>John James Battaglia (Jan 16, 2015)</li><li>Malia Palmater (Jan 16, 2015)</li><li>Astel Coots (Jan 16, 2015)</li><li>Alaina Lindquist (Jan 16, 2015)</li><li>Tanner Long (Jan 16, 2015)</li><li>Shea Bailey (Jan 16, 2015)</li><li>Kevin Hagan (Jan 16, 2015)</li><li>Feleahcia Portis (Jan 16, 2015)</li><li>David Shumate (Jan 16, 2015)</li><li>Skye Aamodt (Jan 16, 2015)</li><li>Deem Lee (Jan 16, 2015)</li><li>Jake Garrow (Jan 16, 2015)</li><li>George Martinez (Jan 16, 2015)</li><li>Ecem Deniz (Jan 16, 2015)</li><li>Melissa Wright (Jan 16, 2015)</li><li>Tamara Angel (Jan 16, 2015)</li><li>Jessica Fortune (Jan 16, 2015)</li><li>Sarah Giles (Jan 16, 2015)</li><li>Gunnar Peterson (Jan 16, 2015)</li><li>Jazmine Torres (Jan 16, 2015)</li><li>Brandon Holder (Jan 16, 2015)</li><li>Austin Tate (Jan 16, 2015)</li><li>Eric Roy Galloway (Jan 16, 2015)</li><li>Dominick Scottolini (Jan 16, 2015)</li><li>Loveless Bob (Jan 16, 2015)</li><li>Leonna Spilman (Jan 16, 2015)</li><li>Nick Munoz (Jan 16, 2015)</li><li>Curtis Sullivan (Jan 16, 2015)</li><li>Jason Acosta (Jan 16, 2015)</li><li>Elyssa Stern (Jan 16, 2015)</li><li>Emma Gindy (Jan 16, 2015)</li><li>Melissa Laws (Jan 16, 2015)</li><li>Tor Zipkin (Jan 16, 2015)</li><li>Adrienne Healey (Jan 16, 2015)</li><li>Mary Reuter (Jan 16, 2015)</li><li>Belle'skie Ramirez (Jan 16, 2015)</li><li>Adrian Valizan (Jan 16, 2015)</li><li>Ashley Houts (Jan 16, 2015)</li><li>Taylor Bazley (Jan 16, 2015)</li><li>Ayanna Cadhla (Jan 16, 2015)</li><li>Christine Carico (Jan 16, 2015)</li><li>Evan Aczon (Jan 16, 2015)</li><li>Spens Brown (Jan 16, 2015)</li><li>Shayla Walker (Jan 16, 2015)</li><li>Brielle Brunner (Jan 16, 2015)</li><li>Christen Carter (Jan 16, 2015)</li><li>Shane Mitchell (Jan 16, 2015)</li><li>Luis Alex Correa (Jan 16, 2015)</li><li>Coby Hilborne (Jan 16, 2015)</li><li>Josh Walley (Jan 16, 2015)</li><li>Nina Woythaler (Jan 16, 2015)</li><li>Ashley Jones (Jan 16, 2015)</li><li>Alley Forrest (Jan 16, 2015)</li><li>Kim Freeze (Jan 16, 2015)</li><li>Kirsten Le'fae (Jan 16, 2015)</li><li>Laura Lowery (Jan 16, 2015)</li><li>Cali Swat (Jan 16, 2015)</li><li>Sarah White (Jan 16, 2015)</li><li>Haley Beck (Jan 16, 2015)</li><li>Bonnie Judd (Jan 16, 2015)</li><li>London McBride (Jan 16, 2015)</li><li>Merissa Hawkins (Jan 16, 2015)</li><li>Divia Dutt (Jan 16, 2015)</li><li>Eric Morrison (Jan 16, 2015)</li><li>Emma Elaine (Jan 16, 2015)</li><li>Rachel Weiskopf (Jan 16, 2015)</li><li>Annie Leanse (Jan 16, 2015)</li><li>Justin Goldberg (Jan 16, 2015)</li><li>Allie Sargent (Jan 16, 2015)</li><li>Jake Graham (Jan 16, 2015)</li><li>Lexi Predmore (Jan 16, 2015)</li><li>Katherine Yogi (Jan 16, 2015)</li><li>David Rozenblat (Jan 16, 2015)</li><li>Steven Fulmer (Jan 16, 2015)</li><li>Kate O'Donoghue (Jan 16, 2015)</li><li>Nick Smith (Jan 16, 2015)</li><li>Jenna Thurston (Jan 16, 2015)</li><li>Jessica Tischner (Jan 16, 2015)</li><li>Lindsey Follis (Jan 16, 2015)</li><li>Talmadge Tota (Jan 16, 2015)</li><li>Crissy Seguin (Jan 12, 2015)</li><li>Rachel A Reed (Nov 18, 2012)</li><li>Cora Trofy (Nov 4, 2012)</li><li>Laura Rivera Martin (Jun 14, 2012)</li><li>Fiona Gonzaga (Nov 22, 2011)</li><li>Virginia Magana (Aug 9, 2010)</li><li>Stephanie Kiara Lopez (Jun 5, 2010)</li><li>Jesus Kryste (Apr 30, 2010)</li><li>Destin Ymplewis (Mar 3, 2010)</li><li>Adam Estrin (Feb 22, 2010)</li><li>Justin Aspin (Feb 9, 2010)</li><li>Deja Scott (Feb 9, 2010)</li><li>Ryley Barry (Feb 9, 2010)</li><li>Cesar Chavez (Feb 9, 2010)</li><li>Ashlen Stewart (Feb 9, 2010)</li><li>Trevor Rogelstad (Feb 9, 2010)</li><li>Anna Christine (Feb 7, 2010)</li><li>Allie Rae Campbell (Feb 5, 2010)</li><li>Grossmont Bot (Jan 25, 2010)</li><li>Raliuq Ablem (Jan 9, 2010)</li><li>Bailey Pietila (Jan 9, 2010)</li><li>Erica Ellis (Jan 9, 2010)</li><li>Christopher Berry (Jan 9, 2010)</li><li>Tanner Donaldson (Dec 29, 2009)</li><li>Karis Coates (Dec 29, 2009)</li><li>Christi Feezell (Dec 29, 2009)</li><li>Julie Ward (Dec 29, 2009)</li><li>Brittney Aspin (Dec 29, 2009)</li><li>Penny Bridges (Dec 29, 2009)</li><li>Alexandria Hay (Nov 23, 2009)</li><li>Katrina Clamor (Nov 23, 2009)</li><li>Sabrina Yolanda (Nov 23, 2009)</li><li>Rhezel Jacaban Rolloque (Nov 23, 2009)</li><li>Janine Torres (Nov 23, 2009)</li><li>Hector Aquiles II (Nov 23, 2009)</li><li>Susie Q Beshear (Oct 18, 2009)</li><li>Anmig Maria Breton Morel (Sep 24, 2009)</li></ul><h2>Removed Friends</h2><ul><li>Christina Boyer (Apr 21, 2012)</li><li>Shelly Michelle (Apr 10, 2012)</li><li>Kirk Kaliszewski (Apr 4, 2012)</li><li>Doris Flammang Cash (Mar 19, 2012)</li><li>Marley Munoz (Mar 9, 2012)</li><li>Alyssa Lefevre (Oct 22, 2011)</li><li>Casmir Mason (Jun 13, 2011)</li><li>Roman JohnDoza (Oct 26, 2010)</li><li>Nick Anderson (May 19, 2010)</li><li>Adam Estrin (Dec 3, 2009)</li><li>Mira Rothsch (Oct 24, 2009)</li></ul><h2>Friend Peer Group</h2>Starting Adult Life</div><div class=\"footer\">Downloaded by Dodge McIntosh on Monday, April 2, 2018 at 12:42pm PDT</div></body></html>\n"
     ]
    }
   ],
   "source": [
    "friends_file = codecs.open(\"facebook-{}/html/friends.htm\".format(username), 'r', 'utf-8')\n",
    "friends_doc = BeautifulSoup(friends_file.read(), \"lxml\")\n",
    "print(friends_doc)"
   ]
  },
  {
   "cell_type": "code",
   "execution_count": 36,
   "metadata": {},
   "outputs": [
    {
     "data": {
      "text/plain": [
       "1616"
      ]
     },
     "execution_count": 36,
     "metadata": {},
     "output_type": "execute_result"
    }
   ],
   "source": [
    "friends = []\n",
    "for friend in friends_doc.find_all('ul')[1]:\n",
    "    friends.append(friend.text)\n",
    "len(friends)"
   ]
  },
  {
   "cell_type": "code",
   "execution_count": 62,
   "metadata": {},
   "outputs": [
    {
     "data": {
      "text/plain": [
       "'Starting Adult Life'"
      ]
     },
     "execution_count": 62,
     "metadata": {},
     "output_type": "execute_result"
    }
   ],
   "source": [
    "peer_group = []\n",
    "for item in friends_doc.find('div', {'class':'contents'}):\n",
    "    peer_group.append(item)\n",
    "peer_group[-1]"
   ]
  },
  {
   "cell_type": "code",
   "execution_count": 65,
   "metadata": {},
   "outputs": [
    {
     "name": "stdout",
     "output_type": "stream",
     "text": [
      "You have 1616 friends on Facebook and Zuck has you in the \"Starting Adult Life\" peer group.\n"
     ]
    }
   ],
   "source": [
    "print('You have {} friends on Facebook and Zuck has you in the \"{}\" peer group.'.format(len(friends), peer_group[-1]))"
   ]
  },
  {
   "cell_type": "markdown",
   "metadata": {},
   "source": [
    "# Profile"
   ]
  },
  {
   "cell_type": "code",
   "execution_count": 66,
   "metadata": {},
   "outputs": [],
   "source": [
    "# Leaning away from including number of relationships"
   ]
  },
  {
   "cell_type": "markdown",
   "metadata": {},
   "source": [
    "# Pokes "
   ]
  },
  {
   "cell_type": "code",
   "execution_count": 68,
   "metadata": {
    "collapsed": true
   },
   "outputs": [
    {
     "name": "stdout",
     "output_type": "stream",
     "text": [
      "<html><head><meta content=\"text/html; charset=utf-8\" http-equiv=\"Content-Type\"/><base href=\"../\"/><style type=\"text/css\">/* Copyright 2004-present Facebook. All Rights Reserved. */\n",
      "body {\n",
      "  color: black;\n",
      "  font-family: Arial, sans-serif;\n",
      "  font-size: 11pt;\n",
      "  margin: 15px auto;\n",
      "  width: 860px;\n",
      "}\n",
      "\n",
      ".nav {\n",
      "  float: left;\n",
      "  width: 200px;\n",
      "}\n",
      "\n",
      ".nav ul {\n",
      "  margin: 10px 0 0 0;\n",
      "  padding: 0;\n",
      "}\n",
      "\n",
      ".nav li {\n",
      "  display: block;\n",
      "  font-size: 15px;\n",
      "  list-style: none;\n",
      "  padding: 5px 10px;\n",
      "  width: 160px;\n",
      "}\n",
      "\n",
      ".nav .selected {\n",
      "  background: #EEE;\n",
      "  font-weight: bold;\n",
      "}\n",
      "\n",
      "h1 {\n",
      "  border-bottom: 1px solid #CCC;\n",
      "  padding-bottom: 10px;\n",
      "}\n",
      "\n",
      ".contents {\n",
      "  padding-left: 210px;\n",
      "}\n",
      "\n",
      "a, a:visited {\n",
      "  color: #10208C;\n",
      "  text-decoration: none;\n",
      "}\n",
      "\n",
      ".meta {\n",
      "  color: #888;\n",
      "  font-size: 13px;\n",
      "}\n",
      "\n",
      ".block {\n",
      "  margin: 20px 0;\n",
      "}\n",
      "\n",
      ".warning {\n",
      "  background: #FEE;\n",
      "  border: 1px solid #A00;\n",
      "}\n",
      "\n",
      ".user {\n",
      "  color: #10208C;\n",
      "  margin-right: 4px;\n",
      "}\n",
      "\n",
      ".comment {\n",
      "  background: #EEE;\n",
      "  margin: 5px 0;\n",
      "  padding: 10px;\n",
      "}\n",
      "\n",
      ".thread {\n",
      "  border: 1px solid #CCC;\n",
      "  margin: 0 0 20px 0;\n",
      "  padding: 10px;\n",
      "}\n",
      "\n",
      ".message_header {\n",
      "  border-top: 1px solid #CCC;\n",
      "  margin: 10px 0 0 0;\n",
      "  padding: 10px 0 0 0;\n",
      "}\n",
      "\n",
      ".message_header .meta {\n",
      "  float: right;\n",
      "}\n",
      "\n",
      "ul {\n",
      "  list-style: none;\n",
      "  padding: 0;\n",
      "}\n",
      "\n",
      "th {\n",
      "  font-weight: normal;\n",
      "  padding: 5px 5px;\n",
      "  text-align: left;\n",
      "  vertical-align: top;\n",
      "  width: 150px;\n",
      "}\n",
      "\n",
      "td {\n",
      "  padding: 5px 5px;\n",
      "}\n",
      "\n",
      ".footer {\n",
      "  clear: both;\n",
      "  color: #888;\n",
      "  font-size: 13px;\n",
      "  margin-top: 10px;\n",
      "  text-align: center;\n",
      "}\n",
      "\n",
      ".warning {\n",
      "  color: red;\n",
      "}\n",
      "</style><title>Dodge McIntosh - Pokes</title></head><body><div class=\"nav\"><img src=\"photos/profile.jpg\"/><ul><li><a href=\"index.htm\">Profile</a></li><li><a href=\"html/contact_info.htm\">Contact Info</a></li><li><a href=\"html/timeline.htm\">Timeline</a></li><li><a href=\"html/photos.htm\">Photos</a></li><li><a href=\"html/videos.htm\">Videos</a></li><li><a href=\"html/friends.htm\">Friends</a></li><li><a href=\"html/messages.htm\">Messages</a></li><li class=\"selected\">Pokes</li><li><a href=\"html/events.htm\">Events</a></li><li><a href=\"html/security.htm\">Security</a></li><li><a href=\"html/ads.htm\">Ads</a></li><li><a href=\"html/apps.htm\">Applications</a></li></ul></div><div class=\"contents\"><h1>Dodge McIntosh</h1><h2>Pokes</h2><ul><li>Robae Kronstedt poked Dodge McIntosh<div class=\"meta\">Saturday, June 18, 2011 at 6:30pm PDT</div></li><li>Hope England poked Dodge McIntosh<div class=\"meta\">Tuesday, August 23, 2011 at 7:00pm PDT</div></li><li>Christian Pedersen poked Dodge McIntosh<div class=\"meta\">Wednesday, March 14, 2012 at 9:55pm PDT</div></li><li>Margareth Smith poked Dodge McIntosh<div class=\"meta\">Friday, August 16, 2013 at 2:28pm PDT</div></li><li>Tom Mertel poked Dodge McIntosh<div class=\"meta\">Wednesday, September 25, 2013 at 8:26am PDT</div></li><li>Stephanie Schultheis poked Dodge McIntosh<div class=\"meta\">Friday, June 27, 2014 at 3:36pm PDT</div></li><li>Nick Pegan poked Dodge McIntosh<div class=\"meta\">Sunday, August 3, 2014 at 10:10pm PDT</div></li><li>Kevin Ryan Bishop poked Dodge McIntosh<div class=\"meta\">Tuesday, June 2, 2015 at 6:40am PDT</div></li><li>Briana May Darlene Seiss poked Dodge McIntosh<div class=\"meta\">Friday, March 18, 2016 at 8:18pm PDT</div></li></ul></div><div class=\"footer\">Downloaded by Dodge McIntosh on Monday, April 2, 2018 at 12:42pm PDT</div></body></html>\n"
     ]
    }
   ],
   "source": [
    "pokes_file = codecs.open(\"facebook-{}/html/pokes.htm\".format(username), 'r', 'utf-8')\n",
    "pokes_doc = BeautifulSoup(pokes_file.read(), \"lxml\")\n",
    "print(pokes_doc)"
   ]
  },
  {
   "cell_type": "code",
   "execution_count": 72,
   "metadata": {},
   "outputs": [
    {
     "data": {
      "text/plain": [
       "9"
      ]
     },
     "execution_count": 72,
     "metadata": {},
     "output_type": "execute_result"
    }
   ],
   "source": [
    "len(pokes_doc.find(\"div\", {'class': 'contents'}).find_all(\"li\"))"
   ]
  },
  {
   "cell_type": "code",
   "execution_count": 73,
   "metadata": {},
   "outputs": [
    {
     "name": "stdout",
     "output_type": "stream",
     "text": [
      "You've been poked 9 times on FB — that's just great.\n"
     ]
    }
   ],
   "source": [
    "print(\"You've been poked {} times on FB — that's just great.\".format(len(pokes_doc.find(\"div\", {'class': 'contents'}).find_all(\"li\"))))"
   ]
  },
  {
   "cell_type": "markdown",
   "metadata": {},
   "source": [
    "# Bringing it all together: "
   ]
  },
  {
   "cell_type": "code",
   "execution_count": 91,
   "metadata": {},
   "outputs": [],
   "source": [
    "def facebook_snapshot(name):\n",
    "    name = input(\"Enter your full name as it appears on your FB profile: \")\n",
    "    username = name.lower().replace(' ', '')\n",
    "    \n",
    "    # Ads and advertisers\n",
    "    ads_file = codecs.open(\"facebook-{}/html/ads.htm\".format(username), 'r', 'utf-8')\n",
    "    ads_doc = BeautifulSoup(ads_file.read(), \"lxml\")\n",
    "    ads_topics = []\n",
    "    for topic in ads_doc.find_all('ul')[1]:\n",
    "        ads_topics.append(topic.text)\n",
    "    print(\"\\n •••Facebook thinks you are interested in these {} topics: \\n\\n{}\".format(len(ads_topics), ads_topics))\n",
    "    advertisers = []\n",
    "    for company in ads_doc.find_all('ul')[3]:\n",
    "        advertisers.append(company.text)\n",
    "    print(\"\\n •••According to Facebook, these {} companies have your contact info: \\n\\n{}\".format(len(advertisers), advertisers))\n",
    "    \n",
    "    # Applications\n",
    "    apps_file = codecs.open(\"facebook-{}/html/apps.htm\".format(username), 'r', 'utf-8')\n",
    "    apps_doc = BeautifulSoup(apps_file.read(), \"lxml\")\n",
    "    print(\"\\n •••You have {} installed applications associated with your Facebook.\".format(len(apps_doc.find_all('ul')[1])))\n",
    "    \n",
    "    # Facial recognition\n",
    "    face_rec_file = codecs.open(\"facebook-{}/photos/facedata.htm\".format(username), 'r', 'utf-8')\n",
    "    face_rec_doc = BeautifulSoup(face_rec_file.read(), \"lxml\")\n",
    "    ex_count = int(face_rec_doc.find_all('td')[3].text)\n",
    "    print('\\n •••Facebook has allegedly used {} photos to compile its facial recognition algorithm for you... Yikes!'.format(ex_count))\n",
    "    \n",
    "    # Friends\n",
    "    friends_file = codecs.open(\"facebook-{}/html/friends.htm\".format(username), 'r', 'utf-8')\n",
    "    friends_doc = BeautifulSoup(friends_file.read(), \"lxml\")\n",
    "    friends = []\n",
    "    for friend in friends_doc.find_all('ul')[1]:\n",
    "        friends.append(friend.text)\n",
    "    peer_group = []\n",
    "    for item in friends_doc.find('div', {'class':'contents'}):\n",
    "        peer_group.append(item)\n",
    "    print('\\n •••You have {} friends on Facebook and Zuck has you in the \"{}\" peer group.'.format(len(friends), peer_group[-1]))\n",
    "    \n",
    "    # Pokes\n",
    "    pokes_file = codecs.open(\"facebook-{}/html/pokes.htm\".format(username), 'r', 'utf-8')\n",
    "    pokes_doc = BeautifulSoup(pokes_file.read(), \"lxml\")\n",
    "    print(\"\\n •••You've been poked {} times on FB — that's just great.\".format(len(pokes_doc.find(\"div\", {'class': 'contents'}).find_all(\"li\"))))"
   ]
  },
  {
   "cell_type": "code",
   "execution_count": 92,
   "metadata": {},
   "outputs": [
    {
     "name": "stdout",
     "output_type": "stream",
     "text": [
      "Enter your full name as it appears on your FB profile: dodge mcintosh\n",
      "\n",
      " •••Facebook thinks you are interested in these 23 topics: \n",
      "\n",
      "['Cookie', 'UCLA Bruins', 'Autism Awareness', 'Glacier', 'Travel', 'Performing arts', 'Cats', '2010 United States Census', 'WOW air', 'San Francisco Bay Area', 'Academy', 'Lake Tahoe', 'Brewery', 'All Good Music Festival', 'Motivation', 'Laboratory', 'Music', 'Property', 'University of California, Los Angeles', 'Paul McCartney', 'David', \"UCLA Bruins men's basketball\", 'Vevo']\n",
      "\n",
      " •••According to Facebook, these 17 companies have your contact info: \n",
      "\n",
      "['Fashionshe', 'Airbnb', 'LinkShe', 'Spotify', 'LILIGAL', 'ROTITA', 'Fiverr', 'MileIQ', 'Airbnb （エアビーアンドビー）', 'Ticketmaster', 'Rotita', 'AutoZone', 'Rosewe', 'Viking River Cruises', 'DataCamp', 'Uber Eats', 'Viking Ocean Cruises']\n",
      "\n",
      " •••You have 44 installed applications associated with your Facebook.\n",
      "\n",
      " •••Facebook has allegedly used 178 photos to compile its facial recognition algorithm for you... Yikes!\n",
      "\n",
      " •••You have 1616 friends on Facebook and Zuck has you in the \"Starting Adult Life\" peer group.\n",
      "\n",
      " •••You've been poked 9 times on FB — that's just great.\n"
     ]
    }
   ],
   "source": [
    "facebook_snapshot(name)"
   ]
  },
  {
   "cell_type": "code",
   "execution_count": null,
   "metadata": {},
   "outputs": [],
   "source": []
  }
 ],
 "metadata": {
  "kernelspec": {
   "display_name": "Python 3",
   "language": "python",
   "name": "python3"
  },
  "language_info": {
   "codemirror_mode": {
    "name": "ipython",
    "version": 3
   },
   "file_extension": ".py",
   "mimetype": "text/x-python",
   "name": "python",
   "nbconvert_exporter": "python",
   "pygments_lexer": "ipython3",
   "version": "3.6.3"
  }
 },
 "nbformat": 4,
 "nbformat_minor": 2
}
